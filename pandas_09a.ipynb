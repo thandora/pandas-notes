{
 "cells": [
  {
   "attachments": {},
   "cell_type": "markdown",
   "metadata": {},
   "source": [
    "---\n",
    "# Cleaning Data and Handling Missing Values \n",
    "Missing values are inevitable when handling data sets. On this section, we will be exploring how how to clean data, handle missing values, and casting data types. Casting simply means to convert form one data type to another.\n",
    "\n",
    "\n",
    "---"
   ]
  },
  {
   "cell_type": "code",
   "execution_count": 2,
   "metadata": {},
   "outputs": [],
   "source": [
    "import pandas as pd\n",
    "import numpy as np\n",
    "from IPython.display import display\n"
   ]
  },
  {
   "cell_type": "code",
   "execution_count": 4,
   "metadata": {},
   "outputs": [],
   "source": [
    "# Function for printing a horizontal line. For display purpose\n",
    "def printhr(s: str = None, n: int = 40):\n",
    "    \"\"\"Print a horizontal rule of the character \"=\" of length n.\n",
    "\n",
    "    Args:\n",
    "        s (str, optional): Header message. Defaults to None.\n",
    "        n (int, optional): Number of characters. Defaults to 50.\n",
    "    \"\"\"\n",
    "\n",
    "    if s:\n",
    "        print(\"=\" * int(n / 2), s, \"=\" * int(n / 2))\n",
    "    else:\n",
    "        print(\"=\" * n)"
   ]
  },
  {
   "cell_type": "code",
   "execution_count": 6,
   "metadata": {},
   "outputs": [],
   "source": [
    "people = {\n",
    "    \"first\": [\"Lorem\", \"John\", \"Jane\", \"Foo\", np.nan, None, \"NA\"],\n",
    "    \"last\": [\"Ipsum\", \"Doe\", \"Doe\", \"Bar\", np.nan, np.nan, \"Missing\"],\n",
    "    \"email\": [\n",
    "        \"lorem@yahoo.com\",\n",
    "        \"john@gmail.com\",\n",
    "        \"jane@outlook.com\",\n",
    "        None,\n",
    "        np.nan,\n",
    "        \"anonymouse@email.com\",\n",
    "        \"NA\",\n",
    "    ],\n",
    "    \"age\": [\"25\", \"35\", \"19\", \"36\", None, None, \"Missing\"],\n",
    "}\n",
    "\n",
    "df = pd.DataFrame(people)"
   ]
  },
  {
   "attachments": {},
   "cell_type": "markdown",
   "metadata": {},
   "source": [
    "---\n",
    "## Aggregating Data\n",
    "Aggregation is any process where data is expressed in summary form. (e.g. taking the mean of data)\n",
    "\n",
    "---"
   ]
  },
  {
   "attachments": {},
   "cell_type": "markdown",
   "metadata": {},
   "source": [
    "---\n",
    "### `describe()` Method\n",
    "Pandas has a `describe()` method that shows different aggregate statistics of the column(s) (determined by the **include** parameter. Defaults to numeric columns).\n",
    "\n",
    "---"
   ]
  },
  {
   "cell_type": "code",
   "execution_count": null,
   "metadata": {},
   "outputs": [],
   "source": [
    "df = pd.DataFrame(people)\n",
    "\n",
    "# x = df.replace(\"NA\", np.nan)\n",
    "# y = df.replace(\"Missing\", np.nan)"
   ]
  }
 ],
 "metadata": {
  "kernelspec": {
   "display_name": "venv",
   "language": "python",
   "name": "python3"
  },
  "language_info": {
   "codemirror_mode": {
    "name": "ipython",
    "version": 3
   },
   "file_extension": ".py",
   "mimetype": "text/x-python",
   "name": "python",
   "nbconvert_exporter": "python",
   "pygments_lexer": "ipython3",
   "version": "3.11.1"
  },
  "orig_nbformat": 4
 },
 "nbformat": 4,
 "nbformat_minor": 2
}
