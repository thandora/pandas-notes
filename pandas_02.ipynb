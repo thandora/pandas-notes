{
 "cells": [
  {
   "attachments": {},
   "cell_type": "markdown",
   "metadata": {},
   "source": [
    "---\n",
    "# Row and Column Selection\n",
    "Selecting rows and columns of **dataframe** and **series**. \n",
    "\n",
    "---"
   ]
  },
  {
   "cell_type": "code",
   "execution_count": null,
   "metadata": {},
   "outputs": [],
   "source": [
    "import pandas as pd\n",
    "import numpy as np\n",
    "from IPython.display import display"
   ]
  },
  {
   "attachments": {},
   "cell_type": "markdown",
   "metadata": {},
   "source": [
    "---\n",
    "## Selecting rows and columns in a dataframe\n",
    "Selecting rows and columns are commonly done by using the `loc()` or `iloc()` method, as follows  \n",
    "\n",
    "---\n",
    "\n",
    "### .loc()\n",
    "```\n",
    "df.loc[<row_indexer>, <column_indexer>]\n",
    "```\n",
    "\n",
    "Where:  \n",
    " `row_indexer` can be a filter, or label (or index) name.  \n",
    " `column_indexer` is the column label.\n",
    "\n",
    "---\n",
    "\n",
    "### .iloc()\n",
    "```\n",
    "df.loc[<row_indexer>, <column_indexer>]\n",
    "```\n",
    "\n",
    "Where:  \n",
    " `row_indexer` is the row's index number.  \n",
    " `column_indexer` is the column label.\n",
    "\n",
    "---"
   ]
  },
  {
   "cell_type": "code",
   "execution_count": null,
   "metadata": {},
   "outputs": [],
   "source": [
    "# A pandas dataframe is like a dict, except it has more functionalities:\n",
    "# Python dict\n",
    "people = {\n",
    "    \"first name\": [\"Klint\", \"Foo\", \"Cat\"],\n",
    "    \"last name\": [\"Labadia\", \"Bar\", \"Dog\"],\n",
    "    \"email\": [\"ckl@a.a\", \"foobar@a.a\", \"catdog@a.a\"],\n",
    "    \"age\": [25, 19, 7],\n",
    "}\n",
    "\n",
    "# Convert dict to a dataframe\n",
    "people_df = pd.DataFrame(people)\n",
    "people_df\n"
   ]
  },
  {
   "cell_type": "code",
   "execution_count": null,
   "metadata": {},
   "outputs": [],
   "source": [
    "# Viewing df columns\n",
    "display(people_df.columns)\n",
    "\n",
    "# Use dtypes to see data types of columns\n",
    "people_df.dtypes\n"
   ]
  },
  {
   "cell_type": "code",
   "execution_count": null,
   "metadata": {},
   "outputs": [],
   "source": [
    "## Selecting Columns\n",
    "\n",
    "# Single column by bracket (preferred)\n",
    "display(people_df[\"email\"])\n",
    "# By dot notation (can't use for column names with space)\n",
    "display(people_df.email)\n",
    "\n",
    "# Multiple columns\n",
    "people_df[[\"first name\", \"email\"]]\n"
   ]
  },
  {
   "cell_type": "code",
   "execution_count": null,
   "metadata": {},
   "outputs": [],
   "source": [
    "## Selecting Rows using iloc (index location)\n",
    "\n",
    "a = people_df.iloc[0]\n",
    "\n",
    "# Multiple rows\n",
    "x = people_df.iloc[[0, 2]]  # Index 0 and index 2\n",
    "\n",
    "# Note that slicing in iloc behaves like normal list slicing\n",
    "# in that it will return first endpoint, but not the final endpoint,\n",
    "# unlike loc which returns both endpoints. I think this is to allow\n",
    "# slicing to include the last element in a collection.\n",
    "\n",
    "y = people_df.iloc[0:2]  # Index 0 through 1\n",
    "\n",
    "display(a)\n",
    "display(x)\n",
    "display(y)\n"
   ]
  },
  {
   "cell_type": "code",
   "execution_count": null,
   "metadata": {},
   "outputs": [],
   "source": [
    "## Selecting Column from Row using iloc\n",
    "\n",
    "# 1 = row, 2 = column\n",
    "# i.e. email (column) of entry at index 1 (row)\n",
    "x = people_df.iloc[1, 2]\n",
    "\n",
    "# Example 2 - First name (0) and last name (1) of entries at index 0 to 1 (0:2)\n",
    "y = people_df.iloc[0:2, [0, 1]]\n",
    "\n",
    "display(x)\n",
    "display(y)\n"
   ]
  },
  {
   "cell_type": "code",
   "execution_count": null,
   "metadata": {},
   "outputs": [],
   "source": [
    "# Change Indices of people_df to str for\n",
    "# the purpose of practicing row selection using loc\n",
    "# More on indices on next notebook.\n",
    "\n",
    "people_df2 = people_df.copy()\n",
    "people_df2.index = list(\"ABC\")\n",
    "people_df2\n"
   ]
  },
  {
   "cell_type": "code",
   "execution_count": null,
   "metadata": {},
   "outputs": [],
   "source": [
    "## Selecting Rows using loc (by label)\n",
    "\n",
    "x = people_df2.loc[\"A\"]\n",
    "\n",
    "# Multiple rows\n",
    "y = people_df2.loc[[\"A\", \"C\"]]  # Index \"A\" and index \"C\"\n",
    "\n",
    "# Note that slicing in iloc behaves like normal list slicing\n",
    "# in that it will return first endpoint, but not the final endpoint,\n",
    "# unlike loc which returns both endpoints. I think this is to allow\n",
    "# slicing to include the last element in a collection.\n",
    "\n",
    "# Index \"A\" through index \"C\" (\"C\" included, unlike iloc)\n",
    "y = people_df2.loc[\"A\":\"C\"]\n",
    "\n",
    "display(x)\n",
    "display(y)"
   ]
  },
  {
   "cell_type": "code",
   "execution_count": null,
   "metadata": {},
   "outputs": [],
   "source": [
    "## Selecting Column from Row using loc\n",
    "\n",
    "# \"A\" = index (row), \"email\" = column\n",
    "# Note that unlike iloc, the column should be the column name.\n",
    "\n",
    "# i.e. email (column) of entry at index A (row)\n",
    "x = people_df2.loc[\"A\", \"email\"]\n",
    "\n",
    "# Example 2 - Last name and email of entries index A and B\n",
    "y = people_df2.loc[[\"A\", \"B\"], [\"last name\", \"email\"]]\n",
    "\n",
    "display(x)\n",
    "display(y)\n"
   ]
  },
  {
   "attachments": {},
   "cell_type": "markdown",
   "metadata": {},
   "source": [
    "---\n",
    "## Example from stackoverflow data set\n",
    "---"
   ]
  },
  {
   "cell_type": "code",
   "execution_count": null,
   "metadata": {},
   "outputs": [],
   "source": [
    "# Load csv files as df\n",
    "df = pd.read_csv(\"data/survey_results_public_2022.csv\")\n",
    "schema_df = pd.read_csv(\"data/survey_results_schema.csv\")\n"
   ]
  },
  {
   "cell_type": "code",
   "execution_count": null,
   "metadata": {},
   "outputs": [],
   "source": [
    "# Configure display options\n",
    "pd.set_option(\"display.max_rows\", 80)\n",
    "pd.set_option(\"display.max_columns\", 80)\n"
   ]
  },
  {
   "cell_type": "code",
   "execution_count": null,
   "metadata": {},
   "outputs": [],
   "source": [
    "# return top 5 items from the top of df\n",
    "df.head()\n"
   ]
  },
  {
   "cell_type": "code",
   "execution_count": null,
   "metadata": {},
   "outputs": [],
   "source": [
    "df.columns\n"
   ]
  },
  {
   "cell_type": "code",
   "execution_count": null,
   "metadata": {},
   "outputs": [],
   "source": [
    "# First four rows, from column \"YearsCode\" to column \"OrgSize\"\n",
    "df.loc[0:4, \"YearsCode\":\"OrgSize\"]\n"
   ]
  }
 ],
 "metadata": {
  "kernelspec": {
   "display_name": "venv",
   "language": "python",
   "name": "python3"
  },
  "language_info": {
   "codemirror_mode": {
    "name": "ipython",
    "version": 3
   },
   "file_extension": ".py",
   "mimetype": "text/x-python",
   "name": "python",
   "nbconvert_exporter": "python",
   "pygments_lexer": "ipython3",
   "version": "3.11.1"
  },
  "orig_nbformat": 4
 },
 "nbformat": 4,
 "nbformat_minor": 2
}
