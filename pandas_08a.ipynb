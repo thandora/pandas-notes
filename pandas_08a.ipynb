{
 "cells": [
  {
   "attachments": {},
   "cell_type": "markdown",
   "metadata": {},
   "source": [
    "---\n",
    "# Grouping and Aggregating Data\n",
    "Up until this point, we have been building our pandas foundations and mainly been doing the technical parts (the operations). Now we will be using what we've learned to analyze and explore our stackoverflow data. \n",
    "\n",
    "---"
   ]
  },
  {
   "cell_type": "code",
   "execution_count": null,
   "metadata": {},
   "outputs": [],
   "source": [
    "import pandas as pd\n",
    "import numpy as np\n",
    "from IPython.display import display"
   ]
  },
  {
   "cell_type": "code",
   "execution_count": null,
   "metadata": {},
   "outputs": [],
   "source": [
    "# Function for printing a horizontal line. For display purpose\n",
    "def printhr(s: str = None, n: int = 40):\n",
    "    \"\"\"Print a horizontal rule of the character \"=\" of length n.\n",
    "\n",
    "    Args:\n",
    "        s (str, optional): Header message. Defaults to None.\n",
    "        n (int, optional): Number of characters. Defaults to 50.\n",
    "    \"\"\"\n",
    "\n",
    "    if s:\n",
    "        print(\"=\" * int(n / 2), s, \"=\" * int(n / 2))\n",
    "    else:\n",
    "        print(\"=\" * n)"
   ]
  },
  {
   "cell_type": "code",
   "execution_count": null,
   "metadata": {},
   "outputs": [],
   "source": [
    "# Stackoverflow developer survey\n",
    "df = pd.read_csv(\"data/survey_results_public_2022.csv\", index_col=\"ResponseId\")\n",
    "schema_df = pd.read_csv(\"data/survey_results_schema.csv\", index_col=\"qname\")"
   ]
  },
  {
   "attachments": {},
   "cell_type": "markdown",
   "metadata": {},
   "source": [
    "---\n",
    "## Aggregating Data\n",
    "Aggregation is any process where data is expressed in summary form. (e.g. taking the mean of data)\n",
    "\n",
    "---"
   ]
  },
  {
   "attachments": {},
   "cell_type": "markdown",
   "metadata": {},
   "source": [
    "---\n",
    "### `describe()` Method\n",
    "Pandas has a `describe()` method that shows different aggregate statistics of the column(s) (determined by the **include** parameter. Defaults to numeric columns).\n",
    "\n",
    "---"
   ]
  },
  {
   "cell_type": "code",
   "execution_count": null,
   "metadata": {},
   "outputs": [],
   "source": [
    "# Applied on df\n",
    "display(df.describe())\n",
    "\n",
    "# Applied on a Series (single column)\n",
    "display(df[\"ConvertedCompYearly\"].describe())"
   ]
  },
  {
   "attachments": {},
   "cell_type": "markdown",
   "metadata": {},
   "source": [
    "---\n",
    "### `value_counts()` Method\n",
    "This method counts the unique row values of a Series or a DataFrame. When used on a DataFrame, a list of labels can be passed to count the unique combinations of the passed labels there are.  \n",
    "**normalize** is a bool parameter which determines whether the counts are showed in frequencies, or in proportion.\n",
    "\n",
    "---"
   ]
  },
  {
   "cell_type": "code",
   "execution_count": 134,
   "metadata": {},
   "outputs": [
    {
     "data": {
      "text/plain": [
       "ConvertedCompYearly  RemoteWork                          \n",
       "150000.0             Fully remote                            270\n",
       "200000.0             Fully remote                            242\n",
       "120000.0             Fully remote                            208\n",
       "100000.0             Fully remote                            174\n",
       "180000.0             Fully remote                            172\n",
       "                                                            ... \n",
       "43428.0              Fully remote                              1\n",
       "43380.0              Hybrid (some remote, some in-person)      1\n",
       "43356.0              Hybrid (some remote, some in-person)      1\n",
       "43346.0              Fully remote                              1\n",
       "50000000.0           Full in-person                            1\n",
       "Name: count, Length: 11465, dtype: int64"
      ]
     },
     "metadata": {},
     "output_type": "display_data"
    }
   ],
   "source": [
    "# Used on a df with combination of columns\n",
    "x = df.value_counts([\"ConvertedCompYearly\", \"RemoteWork\"])\n",
    "display(x)"
   ]
  },
  {
   "cell_type": "code",
   "execution_count": 136,
   "metadata": {},
   "outputs": [
    {
     "data": {
      "text/plain": [
       "ConvertedCompYearly\n",
       "150000.0    0.010323\n",
       "200000.0    0.009509\n",
       "120000.0    0.008957\n",
       "63986.0     0.007985\n",
       "100000.0    0.007328\n",
       "              ...   \n",
       "76472.0     0.000026\n",
       "1368.0      0.000026\n",
       "104952.0    0.000026\n",
       "3648.0      0.000026\n",
       "110245.0    0.000026\n",
       "Name: proportion, Length: 7909, dtype: float64"
      ]
     },
     "metadata": {},
     "output_type": "display_data"
    },
    {
     "data": {
      "text/plain": [
       "ConvertedCompYearly\n",
       "150000.0    1.032282\n",
       "200000.0    0.950855\n",
       "120000.0    0.895695\n",
       "63986.0     0.798508\n",
       "100000.0    0.732841\n",
       "              ...   \n",
       "76472.0     0.002627\n",
       "1368.0      0.002627\n",
       "104952.0    0.002627\n",
       "3648.0      0.002627\n",
       "110245.0    0.002627\n",
       "Name: proportion, Length: 7909, dtype: float64"
      ]
     },
     "metadata": {},
     "output_type": "display_data"
    }
   ],
   "source": [
    "# Used on a Series and using the normalize parameter\n",
    "x = df[\"ConvertedCompYearly\"].value_counts(normalize=True)\n",
    "display(x)\n",
    "\n",
    "# We can multiply all the values in the Series by 100\n",
    "# to show the values in their percentage (out of 100%)\n",
    "display(x*100)"
   ]
  },
  {
   "attachments": {},
   "cell_type": "markdown",
   "metadata": {},
   "source": [
    "---\n",
    "### Measures of Central Tendency\n",
    "Pandas has a built-in `mean()`, `median()`, and `mode()` methods. These methods can be applied to both Series and DataFrames. \n",
    "\n",
    "To apply the methods on all numeric columns of the DataFrame, **True** should be passed to **numeric_only**\n",
    "\n",
    "---"
   ]
  },
  {
   "cell_type": "code",
   "execution_count": null,
   "metadata": {},
   "outputs": [],
   "source": [
    "# Taking median of all numeric columns\n",
    "medians = df.median(numeric_only=True)\n",
    "display(medians)\n",
    "\n",
    "# Note that CompTotal is not normalized; currencies differ"
   ]
  },
  {
   "attachments": {},
   "cell_type": "markdown",
   "metadata": {},
   "source": [
    "---\n",
    "We might ask: what is the typical compensation of software developers in 2022?  \n",
    "If we decide to use the median as a measure:\n",
    "\n",
    "**Note: all examples from hereon out are for illustrative purposes only. The methods used might not be the best way to answer the questions**  \n",
    "\n",
    "---"
   ]
  },
  {
   "cell_type": "code",
   "execution_count": null,
   "metadata": {},
   "outputs": [],
   "source": [
    "# Taking the median compensation\n",
    "# We will use ConvertedCompYearly as it normalizes everything to USD\n",
    "median_comp = df[\"ConvertedCompYearly\"].median()\n",
    "display(median_comp)"
   ]
  },
  {
   "attachments": {},
   "cell_type": "markdown",
   "metadata": {},
   "source": [
    "---\n",
    "We can see that the median salary for software developers is $67,845. (This of course lacks context and does not take account other factors such as experience, among others)\n",
    "\n",
    "---"
   ]
  },
  {
   "attachments": {},
   "cell_type": "markdown",
   "metadata": {},
   "source": [
    "---\n",
    "## Grouping Data\n",
    "Aggregation is any process where data is expressed in summary form. (e.g. taking the mean of data)\n",
    "\n",
    "---"
   ]
  }
 ],
 "metadata": {
  "kernelspec": {
   "display_name": "venv",
   "language": "python",
   "name": "python3"
  },
  "language_info": {
   "codemirror_mode": {
    "name": "ipython",
    "version": 3
   },
   "file_extension": ".py",
   "mimetype": "text/x-python",
   "name": "python",
   "nbconvert_exporter": "python",
   "pygments_lexer": "ipython3",
   "version": "3.11.1"
  },
  "orig_nbformat": 4
 },
 "nbformat": 4,
 "nbformat_minor": 2
}
