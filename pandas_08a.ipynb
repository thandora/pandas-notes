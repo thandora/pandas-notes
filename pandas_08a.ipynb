{
 "cells": [
  {
   "attachments": {},
   "cell_type": "markdown",
   "metadata": {},
   "source": [
    "---\n",
    "# Grouping and Aggregating Data\n",
    "Up until this point, we have been building our pandas foundations and mainly been doing the technical parts (the operations). Now we will be using what we've learned to analyze and explore our stackoverflow data. \n",
    "\n",
    "---"
   ]
  },
  {
   "cell_type": "code",
   "execution_count": 2,
   "metadata": {},
   "outputs": [],
   "source": [
    "import pandas as pd\n",
    "import numpy as np\n",
    "from IPython.display import display"
   ]
  },
  {
   "cell_type": "code",
   "execution_count": 3,
   "metadata": {},
   "outputs": [],
   "source": [
    "# Function for printing a horizontal line. For display purpose\n",
    "def printhr(s: str = None, n: int = 40):\n",
    "    \"\"\"Print a horizontal rule of the character \"=\" of length n.\n",
    "\n",
    "    Args:\n",
    "        s (str, optional): Header message. Defaults to None.\n",
    "        n (int, optional): Number of characters. Defaults to 50.\n",
    "    \"\"\"\n",
    "\n",
    "    if s:\n",
    "        print(\"=\" * int(n / 2), s, \"=\" * int(n / 2))\n",
    "    else:\n",
    "        print(\"=\" * n)"
   ]
  },
  {
   "cell_type": "code",
   "execution_count": null,
   "metadata": {},
   "outputs": [],
   "source": [
    "# Stackoverflow developer survey\n",
    "df = pd.read_csv(\"data/survey_results_public_2022.csv\", index_col=\"ResponseId\")\n",
    "schema_df = pd.read_csv(\"data/survey_results_schema.csv\", index_col=\"qname\")"
   ]
  }
 ],
 "metadata": {
  "kernelspec": {
   "display_name": "venv",
   "language": "python",
   "name": "python3"
  },
  "language_info": {
   "codemirror_mode": {
    "name": "ipython",
    "version": 3
   },
   "file_extension": ".py",
   "mimetype": "text/x-python",
   "name": "python",
   "nbconvert_exporter": "python",
   "pygments_lexer": "ipython3",
   "version": "3.11.1"
  },
  "orig_nbformat": 4
 },
 "nbformat": 4,
 "nbformat_minor": 2
}
