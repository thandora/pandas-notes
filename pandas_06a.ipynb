{
 "cells": [
  {
   "attachments": {},
   "cell_type": "markdown",
   "metadata": {},
   "source": [
    "---\n",
    "# Add/Remove Rows and Columns\n",
    "Adding and removing rows and columns from DataFrames\n",
    "\n",
    "---"
   ]
  },
  {
   "cell_type": "code",
   "execution_count": null,
   "metadata": {},
   "outputs": [],
   "source": [
    "import pandas as pd\n",
    "import numpy as np\n",
    "from IPython.display import display"
   ]
  },
  {
   "cell_type": "code",
   "execution_count": null,
   "metadata": {},
   "outputs": [],
   "source": [
    "people = {\n",
    "    \"first\": [\"Lorem\", \"John\", \"Jane\"],\n",
    "    \"last\": [\"Ipsum\", \"Doe\", \"Doe\"],\n",
    "    \"email\": [\"lorem@yahoo.com\", \"john@gmail.com\", \"jane@outlook.com\"],\n",
    "}\n",
    "df = pd.DataFrame(people)\n",
    "display(df)"
   ]
  },
  {
   "attachments": {},
   "cell_type": "markdown",
   "metadata": {},
   "source": [
    "---\n",
    "## Adding New Columns\n",
    "You can add a new column to an existing DataFrame by indexing to it (the name it will have) and assigning a Series to it.\n",
    "\n",
    "---"
   ]
  },
  {
   "cell_type": "code",
   "execution_count": null,
   "metadata": {},
   "outputs": [],
   "source": [
    "# Add a new column that combines the first and last name\n",
    "\n",
    "display(df)\n",
    "full_name_series = df[\"first\"] + \" \" + df[\"last\"]\n",
    "display(full_name_series)\n",
    "\n",
    "# Create a new column named \"full_name\"\n",
    "df[\"full_name\"] = full_name_series\n",
    "display(df)"
   ]
  },
  {
   "attachments": {},
   "cell_type": "markdown",
   "metadata": {},
   "source": [
    "---\n",
    "## Removing Columns\n",
    "Removing a column can be done by the `drop()` method.  \n",
    "`drop()` can remove a Series (row or column, determined by the **axis** parameter) by passing in the label(s) of the Series to the **labels** parameter.  \n",
    "\n",
    "**axis** can be set to 0, \"rows\", or \"index\" to remove a row Series, and set to 1, or \"columns\" to remove a column Series. **axis** defaults to 0 (rows Series).  \n",
    "\n",
    "Columns can also be dropped directly by passing the column label(s) in an iterable to the **columns** parameter. This bypasses the need of specifying the **axis** parameter.  \n",
    "\n",
    "**Note:** this method does not modify the original df. Modify the original by setting the inplace parameter to True.  \n",
    "\n",
    "---"
   ]
  },
  {
   "cell_type": "code",
   "execution_count": null,
   "metadata": {},
   "outputs": [],
   "source": [
    "# Removing last name using labels and axis parameters.\n",
    "# Note that we are not applying this change (inplace=False)\n",
    "\n",
    "display(df)\n",
    "a = df.drop(labels=\"last\", axis=1)\n",
    "display(a)\n"
   ]
  },
  {
   "cell_type": "code",
   "execution_count": null,
   "metadata": {},
   "outputs": [],
   "source": [
    "# Removing index 0 and 2 (Lorem and John) using labels\n",
    "# Note that we are not applying this change (inplace=False)\n",
    "\n",
    "display(df)\n",
    "a = df.drop(labels=[0, 1])\n",
    "display(a)"
   ]
  },
  {
   "cell_type": "code",
   "execution_count": null,
   "metadata": {},
   "outputs": [],
   "source": [
    "# Removing first and last names using columns parameter\n",
    "# We are applying this change (inplace=True)\n",
    "\n",
    "display(df)\n",
    "df.drop(columns=[\"first\", \"last\"], inplace=True)\n",
    "display(df)"
   ]
  },
  {
   "attachments": {},
   "cell_type": "markdown",
   "metadata": {},
   "source": [
    "---\n",
    "**Adding the first and last name columns back**  \n",
    "\n",
    "We are going to return the first and last name columns back to the original df by using the `split()` method.  \n",
    "\n",
    "If the **expand** parameter is set to True, `split()` assigns the split values in to their own Series in a DataFrame. If **expand** is False, the split values are stored in a list inside a Series.\n",
    "\n",
    "---"
   ]
  },
  {
   "cell_type": "code",
   "execution_count": null,
   "metadata": {},
   "outputs": [],
   "source": [
    "## Create a DataFrame of 2 columns with the full_name column\n",
    "\n",
    "# With expand=False (default)\n",
    "\n",
    "display(df)\n",
    "split_df = df[\"full_name\"].str.split(\" \")\n",
    "display(split_df)\n",
    "\n",
    "# We do not want this behavior. We want a DataFrame."
   ]
  },
  {
   "cell_type": "code",
   "execution_count": null,
   "metadata": {},
   "outputs": [],
   "source": [
    "display(df)\n",
    "\n",
    "# With expand=True\n",
    "split_df = df[\"full_name\"].str.split(\" \", expand=True)\n",
    "display(split_df)\n",
    "\n",
    "# Assign the resulting df to the original df\n",
    "df[[\"first\", \"last\"]] = split_df\n",
    "display(df)"
   ]
  },
  {
   "attachments": {},
   "cell_type": "markdown",
   "metadata": {},
   "source": [
    "---\n",
    "## Adding Rows\n",
    "Adding rows or Series and DataFrames in general, we can use the `concat()` function. `concat()` is explained in detail on **pandas_01a**. \n",
    "\n",
    "**Note:** this method does not modify the original df. Modify the original by setting the inplace parameter to True.  \n",
    "\n",
    "---"
   ]
  },
  {
   "cell_type": "code",
   "execution_count": 36,
   "metadata": {},
   "outputs": [
    {
     "data": {
      "text/html": [
       "<div>\n",
       "<style scoped>\n",
       "    .dataframe tbody tr th:only-of-type {\n",
       "        vertical-align: middle;\n",
       "    }\n",
       "\n",
       "    .dataframe tbody tr th {\n",
       "        vertical-align: top;\n",
       "    }\n",
       "\n",
       "    .dataframe thead th {\n",
       "        text-align: right;\n",
       "    }\n",
       "</style>\n",
       "<table border=\"1\" class=\"dataframe\">\n",
       "  <thead>\n",
       "    <tr style=\"text-align: right;\">\n",
       "      <th></th>\n",
       "      <th>email</th>\n",
       "      <th>full_name</th>\n",
       "      <th>first</th>\n",
       "      <th>last</th>\n",
       "    </tr>\n",
       "  </thead>\n",
       "  <tbody>\n",
       "    <tr>\n",
       "      <th>0</th>\n",
       "      <td>lorem@yahoo.com</td>\n",
       "      <td>Lorem Ipsum</td>\n",
       "      <td>Lorem</td>\n",
       "      <td>Ipsum</td>\n",
       "    </tr>\n",
       "    <tr>\n",
       "      <th>1</th>\n",
       "      <td>john@gmail.com</td>\n",
       "      <td>John Doe</td>\n",
       "      <td>John</td>\n",
       "      <td>Doe</td>\n",
       "    </tr>\n",
       "    <tr>\n",
       "      <th>2</th>\n",
       "      <td>jane@outlook.com</td>\n",
       "      <td>Jane Doe</td>\n",
       "      <td>Jane</td>\n",
       "      <td>Doe</td>\n",
       "    </tr>\n",
       "  </tbody>\n",
       "</table>\n",
       "</div>"
      ],
      "text/plain": [
       "              email    full_name  first   last\n",
       "0   lorem@yahoo.com  Lorem Ipsum  Lorem  Ipsum\n",
       "1    john@gmail.com     John Doe   John    Doe\n",
       "2  jane@outlook.com     Jane Doe   Jane    Doe"
      ]
     },
     "metadata": {},
     "output_type": "display_data"
    },
    {
     "data": {
      "text/plain": [
       "Ken    Adams\n",
       "dtype: object"
      ]
     },
     "metadata": {},
     "output_type": "display_data"
    },
    {
     "data": {
      "text/html": [
       "<div>\n",
       "<style scoped>\n",
       "    .dataframe tbody tr th:only-of-type {\n",
       "        vertical-align: middle;\n",
       "    }\n",
       "\n",
       "    .dataframe tbody tr th {\n",
       "        vertical-align: top;\n",
       "    }\n",
       "\n",
       "    .dataframe thead th {\n",
       "        text-align: right;\n",
       "    }\n",
       "</style>\n",
       "<table border=\"1\" class=\"dataframe\">\n",
       "  <thead>\n",
       "    <tr style=\"text-align: right;\">\n",
       "      <th></th>\n",
       "      <th>email</th>\n",
       "      <th>full_name</th>\n",
       "      <th>first</th>\n",
       "      <th>last</th>\n",
       "      <th>0</th>\n",
       "    </tr>\n",
       "  </thead>\n",
       "  <tbody>\n",
       "    <tr>\n",
       "      <th>0</th>\n",
       "      <td>lorem@yahoo.com</td>\n",
       "      <td>Lorem Ipsum</td>\n",
       "      <td>Lorem</td>\n",
       "      <td>Ipsum</td>\n",
       "      <td>NaN</td>\n",
       "    </tr>\n",
       "    <tr>\n",
       "      <th>1</th>\n",
       "      <td>john@gmail.com</td>\n",
       "      <td>John Doe</td>\n",
       "      <td>John</td>\n",
       "      <td>Doe</td>\n",
       "      <td>NaN</td>\n",
       "    </tr>\n",
       "    <tr>\n",
       "      <th>2</th>\n",
       "      <td>jane@outlook.com</td>\n",
       "      <td>Jane Doe</td>\n",
       "      <td>Jane</td>\n",
       "      <td>Doe</td>\n",
       "      <td>NaN</td>\n",
       "    </tr>\n",
       "    <tr>\n",
       "      <th>3</th>\n",
       "      <td>NaN</td>\n",
       "      <td>NaN</td>\n",
       "      <td>NaN</td>\n",
       "      <td>NaN</td>\n",
       "      <td>Adams</td>\n",
       "    </tr>\n",
       "  </tbody>\n",
       "</table>\n",
       "</div>"
      ],
      "text/plain": [
       "              email    full_name  first   last      0\n",
       "0   lorem@yahoo.com  Lorem Ipsum  Lorem  Ipsum    NaN\n",
       "1    john@gmail.com     John Doe   John    Doe    NaN\n",
       "2  jane@outlook.com     Jane Doe   Jane    Doe    NaN\n",
       "3               NaN          NaN    NaN    NaN  Adams"
      ]
     },
     "execution_count": 36,
     "metadata": {},
     "output_type": "execute_result"
    }
   ],
   "source": [
    "# Add new row\n",
    "\n",
    "display(df)\n",
    "# new_row = pd.DataFrame(\n",
    "#     {\n",
    "#         \"first\": [\"Ken\"],\n",
    "#         \"last\": [\"Adams\"],\n",
    "#         \"email\": [\"adams@gmail.com\"],\n",
    "#     }\n",
    "# )\n",
    "new_row = pd.Series({\"Ken\":\"Adams\"})\n",
    "display(new_row)\n",
    "\n",
    "df2 = pd.concat([df, new_row], ignore_index=True)\n",
    "df2\n",
    "\n",
    "# pd.concat([df, pd.Series([\"Hello\"])], axis=1)\n",
    "# x = df[\"email\"]\n",
    "# display(x)\n",
    "# a = pd.concat([df, x], axis=\"columns\")\n",
    "# display(a)"
   ]
  },
  {
   "cell_type": "code",
   "execution_count": null,
   "metadata": {},
   "outputs": [],
   "source": [
    "# data = [{'col_1': 3},\n",
    "#         {'col_1': 2, 'col_2': 'b'},\n",
    "#         {'col_1': 1, 'col_2': 'c'},\n",
    "#         {'col_1': 0, 'col_2': 'd'}]\n",
    "# a = pd.DataFrame.from_records(data)\n",
    "# b = pd.DataFrame(data)\n",
    "# display(a)\n",
    "# display(b)"
   ]
  },
  {
   "cell_type": "code",
   "execution_count": 43,
   "metadata": {},
   "outputs": [
    {
     "data": {
      "text/html": [
       "<div>\n",
       "<style scoped>\n",
       "    .dataframe tbody tr th:only-of-type {\n",
       "        vertical-align: middle;\n",
       "    }\n",
       "\n",
       "    .dataframe tbody tr th {\n",
       "        vertical-align: top;\n",
       "    }\n",
       "\n",
       "    .dataframe thead th {\n",
       "        text-align: right;\n",
       "    }\n",
       "</style>\n",
       "<table border=\"1\" class=\"dataframe\">\n",
       "  <thead>\n",
       "    <tr style=\"text-align: right;\">\n",
       "      <th></th>\n",
       "      <th>a</th>\n",
       "      <th>b</th>\n",
       "    </tr>\n",
       "  </thead>\n",
       "  <tbody>\n",
       "    <tr>\n",
       "      <th>0</th>\n",
       "      <td>1</td>\n",
       "      <td>2</td>\n",
       "    </tr>\n",
       "  </tbody>\n",
       "</table>\n",
       "</div>"
      ],
      "text/plain": [
       "   a  b\n",
       "0  1  2"
      ]
     },
     "execution_count": 43,
     "metadata": {},
     "output_type": "execute_result"
    }
   ],
   "source": [
    "df7 = pd.DataFrame({'a': 1, 'b': 2}, index=[0])\n",
    "df7"
   ]
  },
  {
   "cell_type": "code",
   "execution_count": 67,
   "metadata": {},
   "outputs": [
    {
     "data": {
      "text/html": [
       "<div>\n",
       "<style scoped>\n",
       "    .dataframe tbody tr th:only-of-type {\n",
       "        vertical-align: middle;\n",
       "    }\n",
       "\n",
       "    .dataframe tbody tr th {\n",
       "        vertical-align: top;\n",
       "    }\n",
       "\n",
       "    .dataframe thead th {\n",
       "        text-align: right;\n",
       "    }\n",
       "</style>\n",
       "<table border=\"1\" class=\"dataframe\">\n",
       "  <thead>\n",
       "    <tr style=\"text-align: right;\">\n",
       "      <th></th>\n",
       "      <th>a</th>\n",
       "      <th>b</th>\n",
       "    </tr>\n",
       "  </thead>\n",
       "  <tbody>\n",
       "    <tr>\n",
       "      <th>0</th>\n",
       "      <td>3</td>\n",
       "      <td>4</td>\n",
       "    </tr>\n",
       "  </tbody>\n",
       "</table>\n",
       "</div>"
      ],
      "text/plain": [
       "   a  b\n",
       "0  3  4"
      ]
     },
     "metadata": {},
     "output_type": "display_data"
    },
    {
     "data": {
      "text/html": [
       "<div>\n",
       "<style scoped>\n",
       "    .dataframe tbody tr th:only-of-type {\n",
       "        vertical-align: middle;\n",
       "    }\n",
       "\n",
       "    .dataframe tbody tr th {\n",
       "        vertical-align: top;\n",
       "    }\n",
       "\n",
       "    .dataframe thead th {\n",
       "        text-align: right;\n",
       "    }\n",
       "</style>\n",
       "<table border=\"1\" class=\"dataframe\">\n",
       "  <thead>\n",
       "    <tr style=\"text-align: right;\">\n",
       "      <th></th>\n",
       "      <th>a</th>\n",
       "      <th>b</th>\n",
       "    </tr>\n",
       "  </thead>\n",
       "  <tbody>\n",
       "    <tr>\n",
       "      <th>0</th>\n",
       "      <td>1</td>\n",
       "      <td>2</td>\n",
       "    </tr>\n",
       "    <tr>\n",
       "      <th>1</th>\n",
       "      <td>3</td>\n",
       "      <td>4</td>\n",
       "    </tr>\n",
       "  </tbody>\n",
       "</table>\n",
       "</div>"
      ],
      "text/plain": [
       "   a  b\n",
       "0  1  2\n",
       "1  3  4"
      ]
     },
     "execution_count": 67,
     "metadata": {},
     "output_type": "execute_result"
    }
   ],
   "source": [
    "# Working example (why not make an append() substitute? This is convoluted)\n",
    "new_row = pd.Series({'a': 3, 'b': 4})\n",
    "new_row = new_row.to_frame().T\n",
    "display(new_row)\n",
    "xx = pd.concat([df7, new_row], ignore_index=True)\n",
    "xx"
   ]
  }
 ],
 "metadata": {
  "kernelspec": {
   "display_name": "venv",
   "language": "python",
   "name": "python3"
  },
  "language_info": {
   "codemirror_mode": {
    "name": "ipython",
    "version": 3
   },
   "file_extension": ".py",
   "mimetype": "text/x-python",
   "name": "python",
   "nbconvert_exporter": "python",
   "pygments_lexer": "ipython3",
   "version": "3.11.1"
  },
  "orig_nbformat": 4
 },
 "nbformat": 4,
 "nbformat_minor": 2
}
