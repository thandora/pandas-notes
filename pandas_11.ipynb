{
 "cells": [
  {
   "attachments": {},
   "cell_type": "markdown",
   "metadata": {},
   "source": [
    "---\n",
    "# Reading and Writing Data to Different Sources\n",
    "\n",
    "Data are stored in many different ways. We will be discussing loading data into pandas and storing them into different file types.\n",
    "\n",
    "---"
   ]
  },
  {
   "cell_type": "code",
   "execution_count": null,
   "metadata": {},
   "outputs": [],
   "source": [
    "import pandas as pd\n",
    "import numpy as np\n",
    "from IPython.display import display\n"
   ]
  },
  {
   "cell_type": "code",
   "execution_count": null,
   "metadata": {},
   "outputs": [],
   "source": [
    "# Function for printing a horizontal line. For display purpose\n",
    "def printhr(s: str = None, n: int = 40):\n",
    "    \"\"\"Print a horizontal rule of the character \"=\" of length n.\n",
    "\n",
    "    Args:\n",
    "        s (str, optional): Header message. Defaults to None.\n",
    "        n (int, optional): Number of characters. Defaults to 50.\n",
    "    \"\"\"\n",
    "\n",
    "    if s:\n",
    "        print(\"=\" * int(n / 2), s, \"=\" * int(n / 2))\n",
    "    else:\n",
    "        print(\"=\" * n)\n"
   ]
  },
  {
   "attachments": {},
   "cell_type": "markdown",
   "metadata": {},
   "source": [
    "---\n",
    "## Comma-Separated Values - .csv\n",
    "\n",
    "CSV is a plain text file where each column is separated by a delimiter (comma).\n",
    "\n",
    "`.read_csv()` is used to load in a CSV as a DataFrame.  \n",
    "`.to_csv()` is used to write the DataFrame into a CSV file.\n",
    "\n",
    "---"
   ]
  },
  {
   "cell_type": "code",
   "execution_count": null,
   "metadata": {},
   "outputs": [],
   "source": [
    "# # Load in csv as df and make the ResponseId the index\n",
    "df = pd.read_csv(\"data/survey_results_public_2022.csv\", index_col=\"ResponseId\")\n",
    "\n",
    "df.head(3)"
   ]
  },
  {
   "cell_type": "code",
   "execution_count": null,
   "metadata": {},
   "outputs": [],
   "source": [
    "# Write to csv\n",
    "\n",
    "# Create new df\n",
    "filt = df[\"Country\"] == \"Japan\"\n",
    "japan_df = df.loc[filt]\n",
    "\n",
    "# Write to csv file. This will create a file named csv_file.csv\n",
    "# inside a folder named new_files\n",
    "japan_df.to_csv(\"new_files/csv_file.csv\")"
   ]
  },
  {
   "attachments": {},
   "cell_type": "markdown",
   "metadata": {},
   "source": [
    "---\n",
    "### Delimiters\n",
    "\n",
    "Since CSVs are just plain text files, they can be delimited with different characters. This separator (delimiter) can be specified by any single character, the common ones being comma, tab, and colon.  \n",
    "\n",
    "The **sep** parameter can be specified if the delimiter is other than a comma, both on reading (`.read_csv`) and writing (`.to_csv`). This defaults to a comma ( , ).\n",
    "\n",
    "---"
   ]
  },
  {
   "cell_type": "code",
   "execution_count": null,
   "metadata": {},
   "outputs": [],
   "source": [
    "# Write to tab-separated value (TSV) file.\n",
    "# TSV is variation of CSV. TSV uses tab as its delimiter.\n",
    "\n",
    "# Create new df\n",
    "filt = df[\"Country\"] == \"Germany\"\n",
    "germany_df = df.loc[filt]\n",
    "display(germany_df.head(3))\n",
    "\n",
    "# Write\n",
    "germany_df.to_csv(\"new_files/tsv_file.tsv\", sep=\"\\t\")\n"
   ]
  },
  {
   "attachments": {},
   "cell_type": "markdown",
   "metadata": {},
   "source": [
    "---\n",
    "Loading with different separator\n",
    "\n",
    "---"
   ]
  },
  {
   "cell_type": "code",
   "execution_count": null,
   "metadata": {},
   "outputs": [],
   "source": [
    "# Load in tab separated values (tsv) to a DataFrame\n",
    "df = pd.read_csv(\"new_files/tsv_file.tsv\", sep=\"\\t\", index_col=\"ResponseId\")\n",
    "display(df.head(3))"
   ]
  },
  {
   "attachments": {},
   "cell_type": "markdown",
   "metadata": {},
   "source": [
    "---\n",
    "## Excel - .xlsx and .xls\n",
    "\n",
    "Excel files are Microsoft's proprietery spreadsheet files. XLSX is the new Excel file format and can be read only by Excel 2007 and later. XLS is the older file format and can be read by all versions.  \n",
    "\n",
    "`.read_excel()` is used to load in a CSV as a DataFrame.  \n",
    "`.to_excel()` is used to write the DataFrame into a CSV file.\n",
    "\n",
    "### Dependencies\n",
    "\n",
    "Unlike CSV files, reading and writing excel files require additional package installs:  \n",
    "`openpyxl` - for writing and reading xlsx, and write to xls*  \n",
    "`xlrd` - for reading old xls  \n",
    "\n",
    "pip supports multiple installs in 1 expression if you want to install both:  \n",
    "`pip install openpyxl xlrd`\n",
    "\n",
    "***Note**: xlwt support has been deprecated since 1.2.0 for writing XLS files. I can't find a replacement for writing XLS files and pandas docs doesn't mention XLS files. openpyxl and xlsxwriter can write to XLS file but is actually just an XLSX file saved with an .xls extension.\n",
    "\n",
    "---"
   ]
  },
  {
   "attachments": {},
   "cell_type": "markdown",
   "metadata": {},
   "source": [
    "---\n",
    "### Reading and Writing .xlsx\n",
    "\n",
    "---"
   ]
  },
  {
   "cell_type": "code",
   "execution_count": null,
   "metadata": {},
   "outputs": [],
   "source": [
    "# Reading\n",
    "excel_df = pd.read_excel(\"data/excel_new.xlsx\", index_col=0)\n",
    "display(excel_df.head())\n"
   ]
  },
  {
   "cell_type": "code",
   "execution_count": null,
   "metadata": {},
   "outputs": [],
   "source": [
    "# Writing\n",
    "display(df.head(3))\n",
    "df.to_excel(\"new_files/new_excel.xlsx\")\n"
   ]
  },
  {
   "attachments": {},
   "cell_type": "markdown",
   "metadata": {},
   "source": [
    "---\n",
    "### Reading and Writing .xls\n",
    "\n",
    "When writing XLS files, we need to explicitly pass an **engine** argument. This can either be `openpyxl` or `xlsxwriter`.  \n",
    "\n",
    "**Note**: xlwt support has been deprecated since 1.2.0 for writing XLS files. I can't find a replacement for writing XLS files and pandas docs doesn't mention XLS files. openpyxl and xlsxwriter can write to XLS file but is actually just an XLSX file saved with an .xls extension.\n",
    "\n",
    "---"
   ]
  },
  {
   "cell_type": "code",
   "execution_count": null,
   "metadata": {},
   "outputs": [],
   "source": [
    "# Reading\n",
    "excel_old_df = pd.read_excel(\"data/excel_old.xls\", index_col=0)\n",
    "display(excel_old_df.sample(5))\n"
   ]
  },
  {
   "cell_type": "code",
   "execution_count": null,
   "metadata": {},
   "outputs": [],
   "source": [
    "# Writing\n",
    "display(df.head(3))\n",
    "df.to_excel(\"new_files/old_excel22.xls\", engine=\"xlsxwriter\")\n"
   ]
  },
  {
   "attachments": {},
   "cell_type": "markdown",
   "metadata": {},
   "source": [
    "---\n",
    "### Reading and Writing to Excel Sheets\n",
    "\n",
    "`.read_excel()` and `.to_excel()` has a **sheet_name** parameter that allows it work with sheets. \n",
    "\n",
    "**read_excel's** sheet_name is used to load the specified sheet. **sheet_name** can take a str, int, list, or None, and defaults to 0 (first sheet).  \n",
    "- Strings are used to read from the file's sheet name.  \n",
    "- Integers are for sheet position (zero-indexed, and chart sheets do not count).  \n",
    "- Lists of the combination of strs and ints are used to read from multiple sheets. If a list is passed, a dict of DataFrames will be returned where the passed list elements are the keys of the dict.\n",
    "- None to read all sheets.  \n",
    "\n",
    "**.to_excel's** sheet_name determines the sheet name to be created. Defaults to *Sheet1*\n",
    "\n",
    "\n",
    "\n",
    "---"
   ]
  },
  {
   "attachments": {},
   "cell_type": "markdown",
   "metadata": {},
   "source": [
    "---\n",
    "Loading sheets as DataFrames  \n",
    "\n",
    "`excel_new.xlsx` has 3 sheets in the order:  \n",
    "\"Sheet1\", \"another sheet\", \"third_sheet3\"\n",
    "\n",
    "---"
   ]
  },
  {
   "cell_type": "code",
   "execution_count": null,
   "metadata": {},
   "outputs": [],
   "source": [
    "# Check sheet names using the sheet_name attribute of ExcelFile objects\n",
    "xl_file = pd.ExcelFile(\"data/excel_new.xlsx\")\n",
    "xl_file.sheet_names\n"
   ]
  },
  {
   "cell_type": "code",
   "execution_count": null,
   "metadata": {},
   "outputs": [],
   "source": [
    "# Load 2nd sheet\n",
    "excel_df = pd.read_excel(\"data/excel_new.xlsx\", sheet_name=\"another sheet\", index_col=0)\n",
    "excel_df.head()"
   ]
  },
  {
   "cell_type": "code",
   "execution_count": null,
   "metadata": {},
   "outputs": [],
   "source": [
    "# Load 1st and 3rd sheets\n",
    "excel_dfs = pd.read_excel(\"data/excel_new.xlsx\", sheet_name=[\"Sheet1\", 2], index_col=0)\n",
    "\n",
    "# This creates a dict of DataFrames\n",
    "display(excel_dfs)"
   ]
  },
  {
   "cell_type": "code",
   "execution_count": null,
   "metadata": {},
   "outputs": [],
   "source": [
    "# Load individual DataFrames\n",
    "xl_df1 = excel_dfs[\"Sheet1\"]\n",
    "xl_df2 = excel_dfs[2]\n",
    "\n",
    "display(xl_df1.head(3))\n",
    "printhr()\n",
    "display(xl_df2.head(3))\n"
   ]
  },
  {
   "attachments": {},
   "cell_type": "markdown",
   "metadata": {},
   "source": [
    "---\n",
    "Specifying sheet name when writing Excel file.\n",
    "\n",
    "---"
   ]
  },
  {
   "cell_type": "code",
   "execution_count": null,
   "metadata": {},
   "outputs": [],
   "source": [
    "# Let's use the previously loaded DataFrame and write it to an .xlsx file\n",
    "display(excel_df.head(2))\n",
    "printhr()\n",
    "\n",
    "# Write into a sheet named \"Sample Data\"\n",
    "excel_df.to_excel(\"new_files/excel_sheet.xlsx\", sheet_name=\"Sample Data\")\n",
    "\n",
    "# Confirm\n",
    "xl_file = pd.ExcelFile(\"new_files/excel_sheet.xlsx\")\n",
    "xl_file.sheet_names\n"
   ]
  }
 ],
 "metadata": {
  "kernelspec": {
   "display_name": "venv",
   "language": "python",
   "name": "python3"
  },
  "language_info": {
   "codemirror_mode": {
    "name": "ipython",
    "version": 3
   },
   "file_extension": ".py",
   "mimetype": "text/x-python",
   "name": "python",
   "nbconvert_exporter": "python",
   "pygments_lexer": "ipython3",
   "version": "3.11.1"
  },
  "orig_nbformat": 4
 },
 "nbformat": 4,
 "nbformat_minor": 2
}
