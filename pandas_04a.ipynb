{
 "cells": [
  {
   "attachments": {},
   "cell_type": "markdown",
   "metadata": {},
   "source": [
    "---\n",
    "# Filtering\n",
    "Using conditionals to filter rows and columns.\n",
    "\n",
    "#TODO test out filtering in series\n",
    "\n",
    "---"
   ]
  },
  {
   "cell_type": "code",
   "execution_count": 1,
   "metadata": {},
   "outputs": [],
   "source": [
    "import pandas as pd\n",
    "import numpy as np\n",
    "from IPython.display import display"
   ]
  },
  {
   "cell_type": "code",
   "execution_count": 2,
   "metadata": {},
   "outputs": [
    {
     "data": {
      "text/html": [
       "<div>\n",
       "<style scoped>\n",
       "    .dataframe tbody tr th:only-of-type {\n",
       "        vertical-align: middle;\n",
       "    }\n",
       "\n",
       "    .dataframe tbody tr th {\n",
       "        vertical-align: top;\n",
       "    }\n",
       "\n",
       "    .dataframe thead th {\n",
       "        text-align: right;\n",
       "    }\n",
       "</style>\n",
       "<table border=\"1\" class=\"dataframe\">\n",
       "  <thead>\n",
       "    <tr style=\"text-align: right;\">\n",
       "      <th></th>\n",
       "      <th>first</th>\n",
       "      <th>last</th>\n",
       "      <th>email</th>\n",
       "    </tr>\n",
       "  </thead>\n",
       "  <tbody>\n",
       "    <tr>\n",
       "      <th>0</th>\n",
       "      <td>Lorem</td>\n",
       "      <td>Ipsum</td>\n",
       "      <td>lorem@yahoo.com</td>\n",
       "    </tr>\n",
       "    <tr>\n",
       "      <th>1</th>\n",
       "      <td>John</td>\n",
       "      <td>Doe</td>\n",
       "      <td>john@gmail.com</td>\n",
       "    </tr>\n",
       "    <tr>\n",
       "      <th>2</th>\n",
       "      <td>Jane</td>\n",
       "      <td>Doe</td>\n",
       "      <td>jane@outlook.com</td>\n",
       "    </tr>\n",
       "  </tbody>\n",
       "</table>\n",
       "</div>"
      ],
      "text/plain": [
       "   first   last             email\n",
       "0  Lorem  Ipsum   lorem@yahoo.com\n",
       "1   John    Doe    john@gmail.com\n",
       "2   Jane    Doe  jane@outlook.com"
      ]
     },
     "execution_count": 2,
     "metadata": {},
     "output_type": "execute_result"
    }
   ],
   "source": [
    "people = {\n",
    "    \"first\": [\"Lorem\", \"John\", \"Jane\"],\n",
    "    \"last\": [\"Ipsum\", \"Doe\", \"Doe\"],\n",
    "    \"email\": [\"lorem@yahoo.com\", \"john@gmail.com\", \"jane@outlook.com\"],\n",
    "}\n",
    "df = pd.DataFrame(people)\n",
    "df"
   ]
  },
  {
   "attachments": {},
   "cell_type": "markdown",
   "metadata": {},
   "source": [
    "---\n",
    "## Creating Filters\n",
    "To create a filter, a conditional is required. This conditional compares the values from a column to another value.\n",
    "\n",
    "---"
   ]
  },
  {
   "cell_type": "code",
   "execution_count": 3,
   "metadata": {},
   "outputs": [
    {
     "data": {
      "text/plain": [
       "0    False\n",
       "1     True\n",
       "2     True\n",
       "Name: last, dtype: bool"
      ]
     },
     "execution_count": 3,
     "metadata": {},
     "output_type": "execute_result"
    }
   ],
   "source": [
    "# Filter people with last name Doe\n",
    "# I prefer creating a variable for the filter first\n",
    "# for readability\n",
    "\n",
    "# fmt: off\n",
    "# Turns off black formatting so that the parentheses\n",
    "# are not removed. I use it for readability\n",
    "\n",
    "# Creating filter\n",
    "my_filter1 = (df[\"last\"] == \"Doe\")\n",
    "my_filter1\n",
    "\n",
    "# fmt: on"
   ]
  },
  {
   "attachments": {},
   "cell_type": "markdown",
   "metadata": {},
   "source": [
    "---\n",
    "### Creating Filters - using isin()\n",
    "isin() checks all values in a column if it exists in an interable and returns a Series of bools.\n",
    "\n",
    "---"
   ]
  },
  {
   "cell_type": "code",
   "execution_count": 4,
   "metadata": {},
   "outputs": [
    {
     "data": {
      "text/plain": [
       "0     True\n",
       "1     True\n",
       "2    False\n",
       "Name: first, dtype: bool"
      ]
     },
     "execution_count": 4,
     "metadata": {},
     "output_type": "execute_result"
    }
   ],
   "source": [
    "# Create a filter of people which have first name in an interable\n",
    "# called my_iterable.\n",
    "my_iterable = [\"John\", \"Lorem\"]\n",
    "my_filt = df[\"first\"].isin(my_iterable)\n",
    "my_filt"
   ]
  },
  {
   "attachments": {},
   "cell_type": "markdown",
   "metadata": {},
   "source": [
    "---\n",
    "### Creating Filters - using str.contains()\n",
    "contains() is a string method that behaves almost like the opposite of isin(); in which it will check a str against all the values in a column and return a Series of bools indicating a match.  \n",
    "This is useful if cells can contain a list of values instead of just one.\n",
    "\n",
    "---"
   ]
  },
  {
   "cell_type": "code",
   "execution_count": 5,
   "metadata": {},
   "outputs": [
    {
     "data": {
      "text/plain": [
       "0    False\n",
       "1     True\n",
       "2    False\n",
       "Name: email, dtype: bool"
      ]
     },
     "execution_count": 5,
     "metadata": {},
     "output_type": "execute_result"
    }
   ],
   "source": [
    "# Create a filter of people having the email of provider of\n",
    "# gmail\n",
    "email_filt = df[\"email\"].str.contains(\"gmail.com\", na=False)\n",
    "email_filt"
   ]
  },
  {
   "attachments": {},
   "cell_type": "markdown",
   "metadata": {},
   "source": [
    "---\n",
    "## Applying Filters\n",
    "Filtering in pandas work by passing in a Series of bools known as a Boolean mask or a **filter**, which we created previously into a DataFrame.\n",
    "\n",
    "---"
   ]
  },
  {
   "cell_type": "code",
   "execution_count": null,
   "metadata": {},
   "outputs": [],
   "source": [
    "# Applying the filter using loc (preferred)\n",
    "# I prefer this since when selecting a column from the filter,\n",
    "# loc does not need to do double indexing\n",
    "# (i.e. df[filter, column] instead of df[filter][column])\n",
    "display(df.loc[my_filter1])\n",
    "\n",
    "# Another way to apply filter; using index.\n",
    "display(df[my_filter1])\n",
    "\n",
    "# Done in a single line:\n",
    "df[df[\"last\"] == \"Doe\"]"
   ]
  },
  {
   "cell_type": "code",
   "execution_count": null,
   "metadata": {},
   "outputs": [],
   "source": [
    "# Doing it like the previous example means the filter\n",
    "# will only work on match case meaning only Doe (with capital D)\n",
    "# will be filtered in. i.e:\n",
    "my_filter2 = df[\"last\"] == \"doe\"\n",
    "display(my_filter2)\n",
    "# Notice how the filter does not find any matching record.\n",
    "\n",
    "\n",
    "# Filter people with last name Doe (case insensitive)\n",
    "# using str accessors\n",
    "my_filter3 = df[\"last\"].str.lower() == \"doe\"\n",
    "display(my_filter3)"
   ]
  },
  {
   "attachments": {},
   "cell_type": "markdown",
   "metadata": {},
   "source": [
    "---\n",
    "## Filter using Multiple Conditions\n",
    "We can filter using the character **&** for combining AND filters,  \n",
    "and **|** for combining OR filters.\n",
    "\n",
    "---"
   ]
  },
  {
   "cell_type": "code",
   "execution_count": null,
   "metadata": {},
   "outputs": [],
   "source": [
    "## Filtering using & (And)\n",
    "\n",
    "# Filter rows that have last name of Doe, AND first name of John.\n",
    "# Note that when combining filters, each condition must be enclosed\n",
    "# in parenthesis\n",
    "my_filter4 = (df[\"last\"] == \"Doe\") & (df[\"first\"] == \"John\")\n",
    "df.loc[my_filter4]"
   ]
  },
  {
   "cell_type": "code",
   "execution_count": null,
   "metadata": {},
   "outputs": [],
   "source": [
    "## Filtering using | (Or)\n",
    "\n",
    "# Filter rows that have a first name of Lorem OR first name of Jane\n",
    "# Return first name and email\n",
    "my_filter5 = (df[\"first\"] == \"Lorem\") | (df[\"first\"] == \"Jane\")\n",
    "df.loc[my_filter5, [\"first\", \"email\"]]"
   ]
  },
  {
   "attachments": {},
   "cell_type": "markdown",
   "metadata": {},
   "source": [
    "---\n",
    "## Inversion of Filter\n",
    "To get the rows that are NOT covered by the filter. That is, the inverse of our filter.  \n",
    "This is achieved by the bitwise NOT operator, tilde ( ~ ). This effectively inverses all bool in the Boolean mask.  \n",
    "i.e.  df[~filter]\n",
    "\n",
    "---"
   ]
  },
  {
   "cell_type": "code",
   "execution_count": null,
   "metadata": {},
   "outputs": [],
   "source": [
    "## To get the rows whose last name is NOT Doe:\n",
    "\n",
    "# Make a filter that filters the Doe last name.\n",
    "my_filter6 = df[\"last\"] == \"Doe\"\n",
    "\n",
    "# Use the tilde (~) operator to select all rows that does\n",
    "# NOT have the last name Doe. (i.e. the inverse of our filter)\n",
    "df[~my_filter6]"
   ]
  }
 ],
 "metadata": {
  "kernelspec": {
   "display_name": "venv",
   "language": "python",
   "name": "python3"
  },
  "language_info": {
   "codemirror_mode": {
    "name": "ipython",
    "version": 3
   },
   "file_extension": ".py",
   "mimetype": "text/x-python",
   "name": "python",
   "nbconvert_exporter": "python",
   "pygments_lexer": "ipython3",
   "version": "3.11.1"
  },
  "orig_nbformat": 4
 },
 "nbformat": 4,
 "nbformat_minor": 2
}
