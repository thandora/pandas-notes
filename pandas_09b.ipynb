{
 "cells": [
  {
   "attachments": {},
   "cell_type": "markdown",
   "metadata": {},
   "source": [
    "---\n",
    "# Handling Missing Values on stackoverflow Data Set\n",
    "\n",
    "---"
   ]
  },
  {
   "cell_type": "code",
   "execution_count": 1,
   "metadata": {},
   "outputs": [],
   "source": [
    "import pandas as pd\n",
    "import numpy as np\n",
    "from IPython.display import display\n"
   ]
  },
  {
   "cell_type": "code",
   "execution_count": 2,
   "metadata": {},
   "outputs": [],
   "source": [
    "# Function for printing a horizontal line. For display purpose\n",
    "def printhr(s: str = None, n: int = 40):\n",
    "    \"\"\"Print a horizontal rule of the character \"=\" of length n.\n",
    "\n",
    "    Args:\n",
    "        s (str, optional): Header message. Defaults to None.\n",
    "        n (int, optional): Number of characters. Defaults to 50.\n",
    "    \"\"\"\n",
    "\n",
    "    if s:\n",
    "        print(\"=\" * int(n / 2), s, \"=\" * int(n / 2))\n",
    "    else:\n",
    "        print(\"=\" * n)"
   ]
  },
  {
   "attachments": {},
   "cell_type": "markdown",
   "metadata": {},
   "source": [
    "---\n",
    "`read_csv()` can take an argument, **na_values**, of custom values that it will treat as null. This is similar to how we use `.replace()` to replace custom missing values with proper null values pandas will recognize.\n",
    "\n",
    "---"
   ]
  },
  {
   "cell_type": "code",
   "execution_count": 3,
   "metadata": {},
   "outputs": [],
   "source": [
    "# Stackoverflow developer survey\n",
    "null_values = [\"Missing\"]\n",
    "df = pd.read_csv(\n",
    "    \"data/survey_results_public_2022.csv\", index_col=\"ResponseId\", na_values=null_values\n",
    ")\n",
    "\n",
    "schema_df = pd.read_csv(\"data/survey_results_schema.csv\", index_col=\"qname\")"
   ]
  },
  {
   "attachments": {},
   "cell_type": "markdown",
   "metadata": {},
   "source": [
    "---\n",
    "**Say we want to take the average coding experience (in years) of developers who took the survey**\n",
    "\n",
    "---"
   ]
  },
  {
   "cell_type": "code",
   "execution_count": 4,
   "metadata": {},
   "outputs": [
    {
     "data": {
      "text/plain": [
       "ResponseId\n",
       "1     NaN\n",
       "2     NaN\n",
       "3      14\n",
       "4      20\n",
       "5       8\n",
       "6      15\n",
       "7       3\n",
       "8       1\n",
       "9       6\n",
       "10     37\n",
       "Name: YearsCode, dtype: object"
      ]
     },
     "metadata": {},
     "output_type": "display_data"
    },
    {
     "data": {
      "text/plain": [
       "array([nan, '14', '20', '8', '15', '3', '1', '6', '37', '5', '12', '22',\n",
       "       '11', '4', '7', '13', '36', '2', '25', '10', '40', '16', '27',\n",
       "       '24', '19', '9', '17', '18', '26', 'More than 50 years', '29',\n",
       "       '30', '32', 'Less than 1 year', '48', '45', '38', '39', '28', '23',\n",
       "       '43', '21', '41', '35', '50', '33', '31', '34', '46', '44', '42',\n",
       "       '47', '49'], dtype=object)"
      ]
     },
     "metadata": {},
     "output_type": "display_data"
    }
   ],
   "source": [
    "# Explore the YearsCode column\n",
    "display(df[\"YearsCode\"].head(10))\n",
    "display(df[\"YearsCode\"].unique())"
   ]
  },
  {
   "attachments": {},
   "cell_type": "markdown",
   "metadata": {},
   "source": [
    "---\n",
    "`.unique()` returns an array of unique values (in order of appearance) of the Series. This is helpful in checking the values present in a Series. \n",
    "\n",
    "In this case, we can see that `.unique()` revealed that there are 2 str values (\"More than 50 years\" and \"Less than 1 year\") that won't be converted to into a float, so we can replace them with numerical values.\n",
    "\n",
    "---"
   ]
  },
  {
   "cell_type": "code",
   "execution_count": 5,
   "metadata": {},
   "outputs": [
    {
     "data": {
      "text/plain": [
       "12.251307285752338"
      ]
     },
     "execution_count": 5,
     "metadata": {},
     "output_type": "execute_result"
    }
   ],
   "source": [
    "# Replace string values to allow casting to float\n",
    "display()\n",
    "df[\"YearsCode\"].replace(\"More than 50 years\", 51, inplace=True)\n",
    "df[\"YearsCode\"].replace(\"Less than 1 year\", 0, inplace=True)\n",
    "\n",
    "\n",
    "# Cast\n",
    "df[\"YearsCode\"] = df[\"YearsCode\"].astype(float)\n",
    "\n",
    "# Get mean\n",
    "df[\"YearsCode\"].mean()"
   ]
  }
 ],
 "metadata": {
  "kernelspec": {
   "display_name": "venv",
   "language": "python",
   "name": "python3"
  },
  "language_info": {
   "codemirror_mode": {
    "name": "ipython",
    "version": 3
   },
   "file_extension": ".py",
   "mimetype": "text/x-python",
   "name": "python",
   "nbconvert_exporter": "python",
   "pygments_lexer": "ipython3",
   "version": "3.11.1"
  },
  "orig_nbformat": 4
 },
 "nbformat": 4,
 "nbformat_minor": 2
}
