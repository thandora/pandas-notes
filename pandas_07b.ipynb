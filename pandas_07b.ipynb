{
 "cells": [
  {
   "attachments": {},
   "cell_type": "markdown",
   "metadata": {},
   "source": [
    "---\n",
    "# Sorting Data on stackoverflow Data Set\n",
    "More sorting examples done on real world data.\n",
    "\n",
    "---"
   ]
  },
  {
   "cell_type": "code",
   "execution_count": null,
   "metadata": {},
   "outputs": [],
   "source": [
    "import pandas as pd\n",
    "import numpy as np\n",
    "from IPython.display import display"
   ]
  },
  {
   "cell_type": "code",
   "execution_count": null,
   "metadata": {},
   "outputs": [],
   "source": [
    "# Function for printing a horizontal line. For display purpose\n",
    "def printhr(s: str = None, n: int = 40):\n",
    "    \"\"\"Print a horizontal rule of the character \"=\" of length n.\n",
    "\n",
    "    Args:\n",
    "        s (str, optional): Header message. Defaults to None.\n",
    "        n (int, optional): Number of characters. Defaults to 50.\n",
    "    \"\"\"\n",
    "\n",
    "    if s:\n",
    "        print(\"=\" * int(n / 2), s, \"=\" * int(n / 2))\n",
    "    else:\n",
    "        print(\"=\" * n)"
   ]
  },
  {
   "cell_type": "code",
   "execution_count": null,
   "metadata": {},
   "outputs": [],
   "source": [
    "# Stackoverflow developer survey\n",
    "df = pd.read_csv(\"data/survey_results_public_2022.csv\", index_col=\"ResponseId\")\n",
    "schema_df = pd.read_csv(\"data/survey_results_schema.csv\", index_col=\"qname\")"
   ]
  },
  {
   "attachments": {},
   "cell_type": "markdown",
   "metadata": {},
   "source": [
    "---\n",
    "**Sort country alphabetically, and sort by salary (descending) within country.**\n",
    "\n",
    "---"
   ]
  },
  {
   "cell_type": "code",
   "execution_count": 43,
   "metadata": {},
   "outputs": [
    {
     "data": {
      "text/html": [
       "<div>\n",
       "<style scoped>\n",
       "    .dataframe tbody tr th:only-of-type {\n",
       "        vertical-align: middle;\n",
       "    }\n",
       "\n",
       "    .dataframe tbody tr th {\n",
       "        vertical-align: top;\n",
       "    }\n",
       "\n",
       "    .dataframe thead th {\n",
       "        text-align: right;\n",
       "    }\n",
       "</style>\n",
       "<table border=\"1\" class=\"dataframe\">\n",
       "  <thead>\n",
       "    <tr style=\"text-align: right;\">\n",
       "      <th></th>\n",
       "      <th>Country</th>\n",
       "      <th>ConvertedCompYearly</th>\n",
       "    </tr>\n",
       "    <tr>\n",
       "      <th>ResponseId</th>\n",
       "      <th></th>\n",
       "      <th></th>\n",
       "    </tr>\n",
       "  </thead>\n",
       "  <tbody>\n",
       "    <tr>\n",
       "      <th>38513</th>\n",
       "      <td>Afghanistan</td>\n",
       "      <td>158484.0</td>\n",
       "    </tr>\n",
       "    <tr>\n",
       "      <th>43640</th>\n",
       "      <td>Afghanistan</td>\n",
       "      <td>92448.0</td>\n",
       "    </tr>\n",
       "    <tr>\n",
       "      <th>6892</th>\n",
       "      <td>Afghanistan</td>\n",
       "      <td>15600.0</td>\n",
       "    </tr>\n",
       "    <tr>\n",
       "      <th>43691</th>\n",
       "      <td>Afghanistan</td>\n",
       "      <td>13212.0</td>\n",
       "    </tr>\n",
       "    <tr>\n",
       "      <th>2449</th>\n",
       "      <td>Afghanistan</td>\n",
       "      <td>10894.0</td>\n",
       "    </tr>\n",
       "    <tr>\n",
       "      <th>...</th>\n",
       "      <td>...</td>\n",
       "      <td>...</td>\n",
       "    </tr>\n",
       "    <tr>\n",
       "      <th>12748</th>\n",
       "      <td>Albania</td>\n",
       "      <td>85315.0</td>\n",
       "    </tr>\n",
       "    <tr>\n",
       "      <th>72371</th>\n",
       "      <td>Albania</td>\n",
       "      <td>66000.0</td>\n",
       "    </tr>\n",
       "    <tr>\n",
       "      <th>5622</th>\n",
       "      <td>Albania</td>\n",
       "      <td>63986.0</td>\n",
       "    </tr>\n",
       "    <tr>\n",
       "      <th>56883</th>\n",
       "      <td>Albania</td>\n",
       "      <td>57600.0</td>\n",
       "    </tr>\n",
       "    <tr>\n",
       "      <th>19216</th>\n",
       "      <td>Albania</td>\n",
       "      <td>48000.0</td>\n",
       "    </tr>\n",
       "  </tbody>\n",
       "</table>\n",
       "<p>75 rows × 2 columns</p>\n",
       "</div>"
      ],
      "text/plain": [
       "                Country  ConvertedCompYearly\n",
       "ResponseId                                  \n",
       "38513       Afghanistan             158484.0\n",
       "43640       Afghanistan              92448.0\n",
       "6892        Afghanistan              15600.0\n",
       "43691       Afghanistan              13212.0\n",
       "2449        Afghanistan              10894.0\n",
       "...                 ...                  ...\n",
       "12748           Albania              85315.0\n",
       "72371           Albania              66000.0\n",
       "5622            Albania              63986.0\n",
       "56883           Albania              57600.0\n",
       "19216           Albania              48000.0\n",
       "\n",
       "[75 rows x 2 columns]"
      ]
     },
     "metadata": {},
     "output_type": "display_data"
    }
   ],
   "source": [
    "df_sorted = df.sort_values(by=[\"Country\", \"ConvertedCompYearly\"], ascending=[True, False])\n",
    "df_sorted = df_sorted[[\"Country\", \"ConvertedCompYearly\"]].head(75)\n",
    "display(df_sorted)"
   ]
  }
 ],
 "metadata": {
  "kernelspec": {
   "display_name": "venv",
   "language": "python",
   "name": "python3"
  },
  "language_info": {
   "codemirror_mode": {
    "name": "ipython",
    "version": 3
   },
   "file_extension": ".py",
   "mimetype": "text/x-python",
   "name": "python",
   "nbconvert_exporter": "python",
   "pygments_lexer": "ipython3",
   "version": "3.11.1"
  },
  "orig_nbformat": 4
 },
 "nbformat": 4,
 "nbformat_minor": 2
}
