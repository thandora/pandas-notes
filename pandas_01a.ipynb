{
 "cells": [
  {
   "attachments": {},
   "cell_type": "markdown",
   "metadata": {},
   "source": [
    "---\n",
    "# Pandas Data Structures\n",
    "Pandas has two main data structures for handling tabular data: `Series` and `DataFrames` \n",
    "\n",
    "---"
   ]
  },
  {
   "cell_type": "code",
   "execution_count": 10,
   "metadata": {},
   "outputs": [],
   "source": [
    "# Importing pandas and numpy as pd, np, respectively.\n",
    "# These shorthand names are common practice.\n",
    "import pandas as pd\n",
    "import numpy as np\n",
    "\n",
    "# display() function works like print, but it shows the\n",
    "# output in its rich display format if possible\n",
    "from IPython.display import display"
   ]
  },
  {
   "cell_type": "code",
   "execution_count": 36,
   "metadata": {},
   "outputs": [],
   "source": [
    "# Function for printing a horizontal line. For display purporse\n",
    "def printhr(n: int = 50):\n",
    "    \"\"\"Print a horizontal rule of the character \"=\" of length n.\n",
    "\n",
    "    Args:\n",
    "        n (int, optional): Number of characters. Defaults to 50.\n",
    "    \"\"\"\n",
    "\n",
    "    print(\"=\" * n)"
   ]
  },
  {
   "attachments": {},
   "cell_type": "markdown",
   "metadata": {},
   "source": [
    "---\n",
    "## Series\n",
    "\n",
    "A series is a homogenous one-dimensional labeled array that can hold any data type (but only 1 type; homogenous). The axis labels are collectively referred to as the **index**.\n",
    "\n",
    "---"
   ]
  },
  {
   "attachments": {},
   "cell_type": "markdown",
   "metadata": {},
   "source": [
    "---\n",
    "### Creating a Series\n",
    "\n",
    "You can use the Series class to create a Series.  \n",
    "\n",
    "`new_series = pd.Series(data, index=index)`\n",
    "\n",
    "Where **data** is the data to be converted into a Series, and **index** is iterable that contains the labels. If **index** is not set, default integer index will be set (incrementing from 0).\n",
    "\n",
    "**data** can be of different structures:\n",
    "\n",
    "- a Python dict\n",
    "- a 1D NumPy ndarray\n",
    "- a scalar value (like 38)\n",
    "\n",
    "---\n"
   ]
  },
  {
   "attachments": {},
   "cell_type": "markdown",
   "metadata": {},
   "source": [
    "---\n",
    "#### Python dict as Data\n",
    "\n",
    "When passing in a Python dict, the keys will act as the labels. If an index is passed, it will be the size of the Series instead of the data's size. If an index is passed, it will check against the dict keys, and order the Series according to the order of the index. Values in the index that do not exist in the dict passed to data will be represented as NaN.\n",
    "\n",
    "---\n"
   ]
  },
  {
   "cell_type": "code",
   "execution_count": 53,
   "metadata": {},
   "outputs": [
    {
     "data": {
      "text/plain": [
       "{'a': 2, 'b': 4, 'c': 6}"
      ]
     },
     "metadata": {},
     "output_type": "display_data"
    },
    {
     "name": "stdout",
     "output_type": "stream",
     "text": [
      "==================================================\n"
     ]
    },
    {
     "data": {
      "text/plain": [
       "a    2\n",
       "b    4\n",
       "c    6\n",
       "dtype: int64"
      ]
     },
     "metadata": {},
     "output_type": "display_data"
    },
    {
     "data": {
      "text/plain": [
       "c    6.0\n",
       "a    2.0\n",
       "b    4.0\n",
       "x    NaN\n",
       "dtype: float64"
      ]
     },
     "metadata": {},
     "output_type": "display_data"
    }
   ],
   "source": [
    "# Creating a Series by passing a dict\n",
    "data = {\"a\": 2, \"b\": 4, \"c\": 6}\n",
    "display(data)\n",
    "printhr()\n",
    "\n",
    "s = pd.Series(data)\n",
    "display(s)\n",
    "\n",
    "# > When an index does not exist in the provided dict data, it will\n",
    "#   be represented with NaN. \n",
    "# > The length of the index is length of Series.\n",
    "# > Order of index is followed.\n",
    "s2 = pd.Series(data, index=[\"c\", \"a\", \"b\", \"x\"])\n",
    "display(s2)"
   ]
  },
  {
   "cell_type": "code",
   "execution_count": 40,
   "metadata": {},
   "outputs": [
    {
     "data": {
      "text/plain": [
       "array([ 1.12998975, -1.07812134,  0.26063663, -0.82503337, -0.53188494])"
      ]
     },
     "metadata": {},
     "output_type": "display_data"
    },
    {
     "name": "stdout",
     "output_type": "stream",
     "text": [
      "==================================================\n"
     ]
    },
    {
     "data": {
      "text/plain": [
       "4    1.129990\n",
       "3   -1.078121\n",
       "2    0.260637\n",
       "1   -0.825033\n",
       "0   -0.531885\n",
       "dtype: float64"
      ]
     },
     "metadata": {},
     "output_type": "display_data"
    },
    {
     "data": {
      "text/plain": [
       "0    1.129990\n",
       "1   -1.078121\n",
       "2    0.260637\n",
       "3   -0.825033\n",
       "4   -0.531885\n",
       "dtype: float64"
      ]
     },
     "metadata": {},
     "output_type": "display_data"
    }
   ],
   "source": [
    "# Series using a numpy ndarray\n",
    "data = np.random.randn(5)\n",
    "display(data)\n",
    "printhr()\n",
    "\n",
    "# Index in descending order\n",
    "s = pd.Series(data, index=pd.RangeIndex(4, -1, -1))\n",
    "display(s)\n",
    "\n",
    "# If no index is passed, int is automatically assigned incrementally.\n",
    "s2 = pd.Series(data)\n",
    "display(s2)"
   ]
  },
  {
   "attachments": {},
   "cell_type": "markdown",
   "metadata": {},
   "source": [
    "---\n",
    "## DataFrame\n",
    "\n",
    "A series is a homogenous one-dimensional labeled array that can hold any data type (but only 1 type; homogenous). The axis labels are collectively referred to as the **index**.\n",
    "\n",
    "---"
   ]
  },
  {
   "attachments": {},
   "cell_type": "markdown",
   "metadata": {},
   "source": [
    "---\n",
    "### Creating a DataFrame\n",
    "\n",
    "Much like creating a Series, a DataFrame class can be used to create a DataFrame.  \n",
    "\n",
    "`new_df = pd.DataFrame(data, index=index)`\n",
    "\n",
    "**data** can be of different structures:\n",
    "\n",
    "- a Python dict of any of the ff:\n",
    "  - 1D ndarrays\n",
    "  - lists\n",
    "  - dicts\n",
    "  - Series\n",
    "- a 2D NumPy ndarray\n",
    "- a Series\n",
    "- structured or record ndarray\n",
    "- another DataFrame\n",
    "\n",
    "\n",
    "---\n"
   ]
  },
  {
   "cell_type": "code",
   "execution_count": null,
   "metadata": {},
   "outputs": [],
   "source": [
    "# Passing in a dict\n",
    "data = {\"Foo\": [2, 5, 5], \"Bar\": [9, 2, 7]}\n",
    "display(data)\n",
    "\n",
    "s = pd.Series(data)\n",
    "df = pd.DataFrame(data, index=range(3))\n",
    "\n",
    "display(s, df)"
   ]
  },
  {
   "cell_type": "code",
   "execution_count": null,
   "metadata": {},
   "outputs": [],
   "source": [
    "# Passing in a dict with list as value\n",
    "data = {\"Foo\": [2, 5, 5], \"Bar\": 9}\n",
    "display(data)\n",
    "\n",
    "s = pd.Series(data)\n",
    "df = pd.DataFrame(data)\n",
    "\n",
    "display(s, df)"
   ]
  }
 ],
 "metadata": {
  "kernelspec": {
   "display_name": "venv",
   "language": "python",
   "name": "python3"
  },
  "language_info": {
   "codemirror_mode": {
    "name": "ipython",
    "version": 3
   },
   "file_extension": ".py",
   "mimetype": "text/x-python",
   "name": "python",
   "nbconvert_exporter": "python",
   "pygments_lexer": "ipython3",
   "version": "3.11.1"
  },
  "orig_nbformat": 4
 },
 "nbformat": 4,
 "nbformat_minor": 2
}
