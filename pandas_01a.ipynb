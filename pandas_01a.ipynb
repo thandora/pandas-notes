{
 "cells": [
  {
   "attachments": {},
   "cell_type": "markdown",
   "metadata": {},
   "source": [
    "---\n",
    "# Pandas Data Structures\n",
    "Pandas has two main data structures for handling tabular data: `Series` and `DataFrames` \n",
    "\n",
    "---"
   ]
  },
  {
   "cell_type": "code",
   "execution_count": null,
   "metadata": {},
   "outputs": [],
   "source": [
    "# Importing pandas and numpy as pd, np, respectively.\n",
    "# These shorthand names are common practice.\n",
    "import pandas as pd\n",
    "import numpy as np\n",
    "\n",
    "# display() function works like print, but it shows the\n",
    "# output in its rich display format if possible\n",
    "from IPython.display import display"
   ]
  },
  {
   "cell_type": "code",
   "execution_count": null,
   "metadata": {},
   "outputs": [],
   "source": [
    "# Function for printing a horizontal line. For display purporse\n",
    "def printhr(n: int = 50):\n",
    "    \"\"\"Print a horizontal rule of the character \"=\" of length n.\n",
    "\n",
    "    Args:\n",
    "        n (int, optional): Number of characters. Defaults to 50.\n",
    "    \"\"\"\n",
    "\n",
    "    print(\"=\" * n)"
   ]
  },
  {
   "attachments": {},
   "cell_type": "markdown",
   "metadata": {},
   "source": [
    "---\n",
    "---\n",
    "## Series\n",
    "\n",
    "A series is a homogenous one-dimensional labeled array that can hold any data type (but only 1 type; homogenous). The axis labels are collectively referred to as the **index**. \n",
    " \n",
    "A Series acts like an ndarray (numpys) and thus most numpy functions that work on an ndarray will work on a Series.\n",
    "\n",
    "---\n",
    "---"
   ]
  },
  {
   "attachments": {},
   "cell_type": "markdown",
   "metadata": {},
   "source": [
    "---\n",
    "### Creating a Series\n",
    "\n",
    "You can use the Series class to create a Series.  \n",
    "\n",
    "`new_series = pd.Series(data, index=index)`\n",
    "\n",
    "Where **data** is the data to be converted into a Series, and **index** is iterable that contains the labels. If **index** is not set, default integer index will be set (incrementing from 0).\n",
    "\n",
    "**data** can be of different structures:\n",
    "\n",
    "- a Python dict\n",
    "- a 1D NumPy ndarray\n",
    "- a scalar value (like 38)\n",
    "\n",
    "---\n"
   ]
  },
  {
   "attachments": {},
   "cell_type": "markdown",
   "metadata": {},
   "source": [
    "---\n",
    "#### **Series:** Python dict as Data\n",
    "\n",
    "When passing in a Python dict, the keys will act as the labels. If an index is passed, it will be the size of the Series instead of the data's size. If an index is passed, it will check against the dict keys, and order the Series according to the order of the index. Values in the index that do not exist in the dict passed to data will be represented as NaN.\n",
    "\n",
    "---\n"
   ]
  },
  {
   "cell_type": "code",
   "execution_count": null,
   "metadata": {},
   "outputs": [],
   "source": [
    "# Create a dict\n",
    "d = {\"a\": 2, \"b\": 4, \"c\": 6}\n",
    "display(d)\n",
    "printhr()\n",
    "\n",
    "# Create Series\n",
    "s = pd.Series(d)\n",
    "display(s)\n",
    "\n",
    "# > When an index does not exist in the provided dict data, it will\n",
    "#   be represented with NaN. \n",
    "# > The length of the index is length of Series.\n",
    "# > Order of index is followed.\n",
    "s2 = pd.Series(d, index=[\"c\", \"a\", \"b\", \"x\"])\n",
    "display(s2)"
   ]
  },
  {
   "attachments": {},
   "cell_type": "markdown",
   "metadata": {},
   "source": [
    "---\n",
    "#### **Series:** NumPy ndarray as Data\n",
    "\n",
    "A numpy ndarray of 1-dimension can be passed as data.\n",
    "\n",
    "---\n"
   ]
  },
  {
   "cell_type": "code",
   "execution_count": null,
   "metadata": {},
   "outputs": [],
   "source": [
    "# Create an ndarray\n",
    "d = np.random.randn(5)\n",
    "display(d)\n",
    "printhr()\n",
    "\n",
    "# Create a Series\n",
    "# Index in descending order using pd.RangeIndex()\n",
    "s = pd.Series(d, index=pd.RangeIndex(4, -1, -1))\n",
    "display(s)\n",
    "\n",
    "# If no index is passed, int is automatically assigned incrementally.\n",
    "s2 = pd.Series(d)\n",
    "display(s2)"
   ]
  },
  {
   "attachments": {},
   "cell_type": "markdown",
   "metadata": {},
   "source": [
    "---\n",
    "#### **Series:** Scalar Value as Data\n",
    "\n",
    "Passing a scalar value will result in a Series of length 1. If an index is passed, the value will be copied match the length of the index. A scalar value is an object with no dimension, or is not a collection.\n",
    "\n",
    "---\n"
   ]
  },
  {
   "cell_type": "code",
   "execution_count": null,
   "metadata": {},
   "outputs": [],
   "source": [
    "# Scalar value (not a collection)\n",
    "d = 4.2\n",
    "\n",
    "# Create Series\n",
    "s = pd.Series(d)\n",
    "display(s)\n",
    "\n",
    "# Value is repeated throughout the index\n",
    "s2 = pd.Series(d, index=[\"i\", \"n\", \"d\", \"e\", \"x\"])\n",
    "display(s2)"
   ]
  },
  {
   "attachments": {},
   "cell_type": "markdown",
   "metadata": {},
   "source": [
    "---\n",
    "---\n",
    "## DataFrame\n",
    "\n",
    "A DataFrame is a 2-dimensional labeled data structure with columns, each of which can be of different type. This is the most commonly used pandas object.\n",
    "\n",
    "---\n",
    "---"
   ]
  },
  {
   "attachments": {},
   "cell_type": "markdown",
   "metadata": {},
   "source": [
    "---\n",
    "### Creating a DataFrame\n",
    "\n",
    "Much like creating a Series, a DataFrame class can be used to create a DataFrame.  \n",
    "\n",
    "`new_df = pd.DataFrame(data, index=index)`\n",
    "\n",
    "**data** can be of different structures:\n",
    "\n",
    "- a Python dict of any of the ff:\n",
    "  - Series\n",
    "  - lists\n",
    "  - 1D ndarrays\n",
    "  - dicts\n",
    "- a 2D NumPy ndarray\n",
    "- a Series\n",
    "- structured or record ndarray\n",
    "- another DataFrame\n",
    "\n",
    "\n",
    "---\n"
   ]
  },
  {
   "attachments": {},
   "cell_type": "markdown",
   "metadata": {},
   "source": [
    "---\n",
    "#### **DataFrame:** dict of Series as Data\n",
    "\n",
    "When creating a DataFrame from a dict of Series, the resulting index will be the union of the indexes of the various Series. The keys from the dict will be the column labels. Missing data will be converted to NaN. Columns can be set through the **columns** parameter; the DataFrame will only contain the columns passed.\n",
    "\n",
    "---\n"
   ]
  },
  {
   "cell_type": "code",
   "execution_count": null,
   "metadata": {},
   "outputs": [],
   "source": [
    "# Create a dict containing Series\n",
    "d = {\n",
    "    \"one\": pd.Series([1.0, 2.0, 3.0], index=[\"a\", \"b\", \"c\"]),\n",
    "    \"two\": pd.Series([\"one\", \"two\", \"three\", \"four\"], index=[\"a\", \"b\", \"c\", \"d\"]),\n",
    "}\n",
    "\n",
    "display(d)\n",
    "printhr()\n",
    "\n",
    "# Create DataFrame\n",
    "# Missing data is set to NaN\n",
    "df = pd.DataFrame(d)\n",
    "display(df)\n",
    "\n",
    "# When index is passed, it dictates the order\n",
    "df = pd.DataFrame(d, index=[\"d\", \"a\", \"b\"])\n",
    "display(df)\n",
    "\n",
    "# Specifying which columns to show\n",
    "# Notice how \"three\" is a NaN column. This is because\n",
    "# the data (d) does not have a column \"three\"\n",
    "df = pd.DataFrame(d, index=[\"d\", \"a\", \"b\", \"c\"], columns=[\"one\", \"three\"])\n",
    "display(df)"
   ]
  },
  {
   "attachments": {},
   "cell_type": "markdown",
   "metadata": {},
   "source": [
    "---\n",
    "#### **DataFrame:** dict of Lists as Data\n",
    "\n",
    "Passing in a dict of lists behaves similarly as a dict of Series.\n",
    "\n",
    "---\n"
   ]
  },
  {
   "cell_type": "code",
   "execution_count": null,
   "metadata": {},
   "outputs": [],
   "source": [
    "# Create dict\n",
    "d = {\"Foo\": [2, 5, 5], \"Bar\": [9, 2, 7]}\n",
    "display(d)\n",
    "printhr()\n",
    "\n",
    "# Create df\n",
    "df = pd.DataFrame(d, index=range(3))\n",
    "display(df)"
   ]
  },
  {
   "attachments": {},
   "cell_type": "markdown",
   "metadata": {},
   "source": [
    "---\n",
    "#### **DataFrame:** List of dicts\n",
    "\n",
    "When passing a list of dicts as data, each dict will be a row, and the keys in the dict will be the columns.\n",
    "\n",
    "---\n"
   ]
  },
  {
   "cell_type": "code",
   "execution_count": 59,
   "metadata": {},
   "outputs": [
    {
     "data": {
      "text/plain": [
       "[{'a': 1, 'b': 2, 'c': 3, 'd': 4}, {'a': 3, 'c': 9, 'd': 12}]"
      ]
     },
     "metadata": {},
     "output_type": "display_data"
    },
    {
     "name": "stdout",
     "output_type": "stream",
     "text": [
      "==================================================\n"
     ]
    },
    {
     "data": {
      "text/html": [
       "<div>\n",
       "<style scoped>\n",
       "    .dataframe tbody tr th:only-of-type {\n",
       "        vertical-align: middle;\n",
       "    }\n",
       "\n",
       "    .dataframe tbody tr th {\n",
       "        vertical-align: top;\n",
       "    }\n",
       "\n",
       "    .dataframe thead th {\n",
       "        text-align: right;\n",
       "    }\n",
       "</style>\n",
       "<table border=\"1\" class=\"dataframe\">\n",
       "  <thead>\n",
       "    <tr style=\"text-align: right;\">\n",
       "      <th></th>\n",
       "      <th>a</th>\n",
       "      <th>b</th>\n",
       "      <th>c</th>\n",
       "      <th>d</th>\n",
       "    </tr>\n",
       "  </thead>\n",
       "  <tbody>\n",
       "    <tr>\n",
       "      <th>0</th>\n",
       "      <td>1</td>\n",
       "      <td>2.0</td>\n",
       "      <td>3</td>\n",
       "      <td>4</td>\n",
       "    </tr>\n",
       "    <tr>\n",
       "      <th>1</th>\n",
       "      <td>3</td>\n",
       "      <td>NaN</td>\n",
       "      <td>9</td>\n",
       "      <td>12</td>\n",
       "    </tr>\n",
       "  </tbody>\n",
       "</table>\n",
       "</div>"
      ],
      "text/plain": [
       "   a    b  c   d\n",
       "0  1  2.0  3   4\n",
       "1  3  NaN  9  12"
      ]
     },
     "metadata": {},
     "output_type": "display_data"
    },
    {
     "ename": "IntCastingNaNError",
     "evalue": "Cannot convert non-finite values (NA or inf) to integer",
     "output_type": "error",
     "traceback": [
      "\u001b[1;31m---------------------------------------------------------------------------\u001b[0m",
      "\u001b[1;31mIntCastingNaNError\u001b[0m                        Traceback (most recent call last)",
      "Cell \u001b[1;32mIn[59], line 29\u001b[0m\n\u001b[0;32m     11\u001b[0m display(df)\n\u001b[0;32m     12\u001b[0m \u001b[39m# Note that the column \"b\" shows 2.0\u001b[39;00m\n\u001b[0;32m     13\u001b[0m \u001b[39m# This is because when creating our df, we have an empty value\u001b[39;00m\n\u001b[0;32m     14\u001b[0m \u001b[39m# which is represented by NaN and when there is NaN on a column\u001b[39;00m\n\u001b[1;32m   (...)\u001b[0m\n\u001b[0;32m     27\u001b[0m \u001b[39m# We can also change the column's data type after we create the df\u001b[39;00m\n\u001b[0;32m     28\u001b[0m \u001b[39m# using the astype() method\u001b[39;00m\n\u001b[1;32m---> 29\u001b[0m df[\u001b[39m\"\u001b[39;49m\u001b[39mb\u001b[39;49m\u001b[39m\"\u001b[39;49m]\u001b[39m.\u001b[39;49mastype(\u001b[39mint\u001b[39;49m)\n\u001b[0;32m     30\u001b[0m df\n",
      "File \u001b[1;32mc:\\Users\\CKL\\.vscode\\learning-playground\\pandas\\venv\\Lib\\site-packages\\pandas\\core\\generic.py:6324\u001b[0m, in \u001b[0;36mNDFrame.astype\u001b[1;34m(self, dtype, copy, errors)\u001b[0m\n\u001b[0;32m   6317\u001b[0m     results \u001b[39m=\u001b[39m [\n\u001b[0;32m   6318\u001b[0m         \u001b[39mself\u001b[39m\u001b[39m.\u001b[39miloc[:, i]\u001b[39m.\u001b[39mastype(dtype, copy\u001b[39m=\u001b[39mcopy)\n\u001b[0;32m   6319\u001b[0m         \u001b[39mfor\u001b[39;00m i \u001b[39min\u001b[39;00m \u001b[39mrange\u001b[39m(\u001b[39mlen\u001b[39m(\u001b[39mself\u001b[39m\u001b[39m.\u001b[39mcolumns))\n\u001b[0;32m   6320\u001b[0m     ]\n\u001b[0;32m   6322\u001b[0m \u001b[39melse\u001b[39;00m:\n\u001b[0;32m   6323\u001b[0m     \u001b[39m# else, only a single dtype is given\u001b[39;00m\n\u001b[1;32m-> 6324\u001b[0m     new_data \u001b[39m=\u001b[39m \u001b[39mself\u001b[39;49m\u001b[39m.\u001b[39;49m_mgr\u001b[39m.\u001b[39;49mastype(dtype\u001b[39m=\u001b[39;49mdtype, copy\u001b[39m=\u001b[39;49mcopy, errors\u001b[39m=\u001b[39;49merrors)\n\u001b[0;32m   6325\u001b[0m     \u001b[39mreturn\u001b[39;00m \u001b[39mself\u001b[39m\u001b[39m.\u001b[39m_constructor(new_data)\u001b[39m.\u001b[39m__finalize__(\u001b[39mself\u001b[39m, method\u001b[39m=\u001b[39m\u001b[39m\"\u001b[39m\u001b[39mastype\u001b[39m\u001b[39m\"\u001b[39m)\n\u001b[0;32m   6327\u001b[0m \u001b[39m# GH 33113: handle empty frame or series\u001b[39;00m\n",
      "File \u001b[1;32mc:\\Users\\CKL\\.vscode\\learning-playground\\pandas\\venv\\Lib\\site-packages\\pandas\\core\\internals\\managers.py:451\u001b[0m, in \u001b[0;36mBaseBlockManager.astype\u001b[1;34m(self, dtype, copy, errors)\u001b[0m\n\u001b[0;32m    448\u001b[0m \u001b[39melif\u001b[39;00m using_copy_on_write():\n\u001b[0;32m    449\u001b[0m     copy \u001b[39m=\u001b[39m \u001b[39mFalse\u001b[39;00m\n\u001b[1;32m--> 451\u001b[0m \u001b[39mreturn\u001b[39;00m \u001b[39mself\u001b[39;49m\u001b[39m.\u001b[39;49mapply(\n\u001b[0;32m    452\u001b[0m     \u001b[39m\"\u001b[39;49m\u001b[39mastype\u001b[39;49m\u001b[39m\"\u001b[39;49m,\n\u001b[0;32m    453\u001b[0m     dtype\u001b[39m=\u001b[39;49mdtype,\n\u001b[0;32m    454\u001b[0m     copy\u001b[39m=\u001b[39;49mcopy,\n\u001b[0;32m    455\u001b[0m     errors\u001b[39m=\u001b[39;49merrors,\n\u001b[0;32m    456\u001b[0m     using_cow\u001b[39m=\u001b[39;49musing_copy_on_write(),\n\u001b[0;32m    457\u001b[0m )\n",
      "File \u001b[1;32mc:\\Users\\CKL\\.vscode\\learning-playground\\pandas\\venv\\Lib\\site-packages\\pandas\\core\\internals\\managers.py:352\u001b[0m, in \u001b[0;36mBaseBlockManager.apply\u001b[1;34m(self, f, align_keys, **kwargs)\u001b[0m\n\u001b[0;32m    350\u001b[0m         applied \u001b[39m=\u001b[39m b\u001b[39m.\u001b[39mapply(f, \u001b[39m*\u001b[39m\u001b[39m*\u001b[39mkwargs)\n\u001b[0;32m    351\u001b[0m     \u001b[39melse\u001b[39;00m:\n\u001b[1;32m--> 352\u001b[0m         applied \u001b[39m=\u001b[39m \u001b[39mgetattr\u001b[39;49m(b, f)(\u001b[39m*\u001b[39;49m\u001b[39m*\u001b[39;49mkwargs)\n\u001b[0;32m    353\u001b[0m     result_blocks \u001b[39m=\u001b[39m extend_blocks(applied, result_blocks)\n\u001b[0;32m    355\u001b[0m out \u001b[39m=\u001b[39m \u001b[39mtype\u001b[39m(\u001b[39mself\u001b[39m)\u001b[39m.\u001b[39mfrom_blocks(result_blocks, \u001b[39mself\u001b[39m\u001b[39m.\u001b[39maxes)\n",
      "File \u001b[1;32mc:\\Users\\CKL\\.vscode\\learning-playground\\pandas\\venv\\Lib\\site-packages\\pandas\\core\\internals\\blocks.py:511\u001b[0m, in \u001b[0;36mBlock.astype\u001b[1;34m(self, dtype, copy, errors, using_cow)\u001b[0m\n\u001b[0;32m    491\u001b[0m \u001b[39m\u001b[39m\u001b[39m\"\"\"\u001b[39;00m\n\u001b[0;32m    492\u001b[0m \u001b[39mCoerce to the new dtype.\u001b[39;00m\n\u001b[0;32m    493\u001b[0m \n\u001b[1;32m   (...)\u001b[0m\n\u001b[0;32m    507\u001b[0m \u001b[39mBlock\u001b[39;00m\n\u001b[0;32m    508\u001b[0m \u001b[39m\"\"\"\u001b[39;00m\n\u001b[0;32m    509\u001b[0m values \u001b[39m=\u001b[39m \u001b[39mself\u001b[39m\u001b[39m.\u001b[39mvalues\n\u001b[1;32m--> 511\u001b[0m new_values \u001b[39m=\u001b[39m astype_array_safe(values, dtype, copy\u001b[39m=\u001b[39;49mcopy, errors\u001b[39m=\u001b[39;49merrors)\n\u001b[0;32m    513\u001b[0m new_values \u001b[39m=\u001b[39m maybe_coerce_values(new_values)\n\u001b[0;32m    515\u001b[0m refs \u001b[39m=\u001b[39m \u001b[39mNone\u001b[39;00m\n",
      "File \u001b[1;32mc:\\Users\\CKL\\.vscode\\learning-playground\\pandas\\venv\\Lib\\site-packages\\pandas\\core\\dtypes\\astype.py:242\u001b[0m, in \u001b[0;36mastype_array_safe\u001b[1;34m(values, dtype, copy, errors)\u001b[0m\n\u001b[0;32m    239\u001b[0m     dtype \u001b[39m=\u001b[39m dtype\u001b[39m.\u001b[39mnumpy_dtype\n\u001b[0;32m    241\u001b[0m \u001b[39mtry\u001b[39;00m:\n\u001b[1;32m--> 242\u001b[0m     new_values \u001b[39m=\u001b[39m astype_array(values, dtype, copy\u001b[39m=\u001b[39;49mcopy)\n\u001b[0;32m    243\u001b[0m \u001b[39mexcept\u001b[39;00m (\u001b[39mValueError\u001b[39;00m, \u001b[39mTypeError\u001b[39;00m):\n\u001b[0;32m    244\u001b[0m     \u001b[39m# e.g. _astype_nansafe can fail on object-dtype of strings\u001b[39;00m\n\u001b[0;32m    245\u001b[0m     \u001b[39m#  trying to convert to float\u001b[39;00m\n\u001b[0;32m    246\u001b[0m     \u001b[39mif\u001b[39;00m errors \u001b[39m==\u001b[39m \u001b[39m\"\u001b[39m\u001b[39mignore\u001b[39m\u001b[39m\"\u001b[39m:\n",
      "File \u001b[1;32mc:\\Users\\CKL\\.vscode\\learning-playground\\pandas\\venv\\Lib\\site-packages\\pandas\\core\\dtypes\\astype.py:187\u001b[0m, in \u001b[0;36mastype_array\u001b[1;34m(values, dtype, copy)\u001b[0m\n\u001b[0;32m    184\u001b[0m     values \u001b[39m=\u001b[39m values\u001b[39m.\u001b[39mastype(dtype, copy\u001b[39m=\u001b[39mcopy)\n\u001b[0;32m    186\u001b[0m \u001b[39melse\u001b[39;00m:\n\u001b[1;32m--> 187\u001b[0m     values \u001b[39m=\u001b[39m _astype_nansafe(values, dtype, copy\u001b[39m=\u001b[39;49mcopy)\n\u001b[0;32m    189\u001b[0m \u001b[39m# in pandas we don't store numpy str dtypes, so convert to object\u001b[39;00m\n\u001b[0;32m    190\u001b[0m \u001b[39mif\u001b[39;00m \u001b[39misinstance\u001b[39m(dtype, np\u001b[39m.\u001b[39mdtype) \u001b[39mand\u001b[39;00m \u001b[39missubclass\u001b[39m(values\u001b[39m.\u001b[39mdtype\u001b[39m.\u001b[39mtype, \u001b[39mstr\u001b[39m):\n",
      "File \u001b[1;32mc:\\Users\\CKL\\.vscode\\learning-playground\\pandas\\venv\\Lib\\site-packages\\pandas\\core\\dtypes\\astype.py:105\u001b[0m, in \u001b[0;36m_astype_nansafe\u001b[1;34m(arr, dtype, copy, skipna)\u001b[0m\n\u001b[0;32m    100\u001b[0m     \u001b[39mreturn\u001b[39;00m lib\u001b[39m.\u001b[39mensure_string_array(\n\u001b[0;32m    101\u001b[0m         arr, skipna\u001b[39m=\u001b[39mskipna, convert_na_value\u001b[39m=\u001b[39m\u001b[39mFalse\u001b[39;00m\n\u001b[0;32m    102\u001b[0m     )\u001b[39m.\u001b[39mreshape(shape)\n\u001b[0;32m    104\u001b[0m \u001b[39melif\u001b[39;00m np\u001b[39m.\u001b[39missubdtype(arr\u001b[39m.\u001b[39mdtype, np\u001b[39m.\u001b[39mfloating) \u001b[39mand\u001b[39;00m is_integer_dtype(dtype):\n\u001b[1;32m--> 105\u001b[0m     \u001b[39mreturn\u001b[39;00m _astype_float_to_int_nansafe(arr, dtype, copy)\n\u001b[0;32m    107\u001b[0m \u001b[39melif\u001b[39;00m is_object_dtype(arr\u001b[39m.\u001b[39mdtype):\n\u001b[0;32m    108\u001b[0m     \u001b[39m# if we have a datetime/timedelta array of objects\u001b[39;00m\n\u001b[0;32m    109\u001b[0m     \u001b[39m# then coerce to datetime64[ns] and use DatetimeArray.astype\u001b[39;00m\n\u001b[0;32m    111\u001b[0m     \u001b[39mif\u001b[39;00m is_datetime64_dtype(dtype):\n",
      "File \u001b[1;32mc:\\Users\\CKL\\.vscode\\learning-playground\\pandas\\venv\\Lib\\site-packages\\pandas\\core\\dtypes\\astype.py:150\u001b[0m, in \u001b[0;36m_astype_float_to_int_nansafe\u001b[1;34m(values, dtype, copy)\u001b[0m\n\u001b[0;32m    146\u001b[0m \u001b[39m\u001b[39m\u001b[39m\"\"\"\u001b[39;00m\n\u001b[0;32m    147\u001b[0m \u001b[39mastype with a check preventing converting NaN to an meaningless integer value.\u001b[39;00m\n\u001b[0;32m    148\u001b[0m \u001b[39m\"\"\"\u001b[39;00m\n\u001b[0;32m    149\u001b[0m \u001b[39mif\u001b[39;00m \u001b[39mnot\u001b[39;00m np\u001b[39m.\u001b[39misfinite(values)\u001b[39m.\u001b[39mall():\n\u001b[1;32m--> 150\u001b[0m     \u001b[39mraise\u001b[39;00m IntCastingNaNError(\n\u001b[0;32m    151\u001b[0m         \u001b[39m\"\u001b[39m\u001b[39mCannot convert non-finite values (NA or inf) to integer\u001b[39m\u001b[39m\"\u001b[39m\n\u001b[0;32m    152\u001b[0m     )\n\u001b[0;32m    153\u001b[0m \u001b[39mif\u001b[39;00m dtype\u001b[39m.\u001b[39mkind \u001b[39m==\u001b[39m \u001b[39m\"\u001b[39m\u001b[39mu\u001b[39m\u001b[39m\"\u001b[39m:\n\u001b[0;32m    154\u001b[0m     \u001b[39m# GH#45151\u001b[39;00m\n\u001b[0;32m    155\u001b[0m     \u001b[39mif\u001b[39;00m \u001b[39mnot\u001b[39;00m (values \u001b[39m>\u001b[39m\u001b[39m=\u001b[39m \u001b[39m0\u001b[39m)\u001b[39m.\u001b[39mall():\n",
      "\u001b[1;31mIntCastingNaNError\u001b[0m: Cannot convert non-finite values (NA or inf) to integer"
     ]
    }
   ],
   "source": [
    "# Create data\n",
    "d = [\n",
    "    {\"a\": 1, \"b\": 2, \"c\": 3, \"d\": 4},\n",
    "    {\"a\": 3, \"c\": 9, \"d\": 12},\n",
    "]\n",
    "display(d)\n",
    "printhr()\n",
    "\n",
    "# Create df\n",
    "df = pd.DataFrame(d)\n",
    "display(df)\n",
    "# Note that the column \"b\" shows 2.0\n",
    "# This is because when creating our df, we have an empty value\n",
    "# which is represented by NaN and when there is NaN on a column\n",
    "# where numbers are present, the column is automatically set\n",
    "# to be a float64 data type on initialization.\n",
    "\n",
    "# To convert, we can pass a dict with all the columns's type to the\n",
    "# dtype parameter of DataFrame() in a column:type pair.\n",
    "\n",
    "#TODO does not work: check on dtype parameter.\n",
    "# dt = {\"a\": int, \"b\": int, \"c\": int, \"d\": int}\n",
    "# df = pd.DataFrame(d, dtype=dt)\n",
    "# display(df)\n",
    "#TODO does not work: check on dtype parameter.\n",
    "\n",
    "#TODO do I include this here or later on: NaN is a float value and \n",
    "# hence cant be converted into integer.\n",
    "# Maybe fix this problem by setting default value to NaN values?\n",
    "\n",
    "# We can also change the column's data type after we create the df\n",
    "# using the astype() method\n",
    "# df[\"b\"].astype(int)\n",
    "# df\n",
    "\n"
   ]
  }
 ],
 "metadata": {
  "kernelspec": {
   "display_name": "venv",
   "language": "python",
   "name": "python3"
  },
  "language_info": {
   "codemirror_mode": {
    "name": "ipython",
    "version": 3
   },
   "file_extension": ".py",
   "mimetype": "text/x-python",
   "name": "python",
   "nbconvert_exporter": "python",
   "pygments_lexer": "ipython3",
   "version": "3.11.1"
  },
  "orig_nbformat": 4
 },
 "nbformat": 4,
 "nbformat_minor": 2
}
