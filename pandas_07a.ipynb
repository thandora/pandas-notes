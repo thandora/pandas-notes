{
 "cells": [
  {
   "attachments": {},
   "cell_type": "markdown",
   "metadata": {},
   "source": [
    "---\n",
    "# Sorting Data\n",
    "Sorting a column and multiple columns\n",
    "\n",
    "---"
   ]
  },
  {
   "cell_type": "code",
   "execution_count": 1,
   "metadata": {},
   "outputs": [],
   "source": [
    "import pandas as pd\n",
    "import numpy as np\n",
    "from IPython.display import display"
   ]
  },
  {
   "cell_type": "code",
   "execution_count": 2,
   "metadata": {},
   "outputs": [],
   "source": [
    "# Function for printing a horizontal line. For display purpose\n",
    "def printhr(s: str = None, n: int = 40):\n",
    "    \"\"\"Print a horizontal rule of the character \"=\" of length n.\n",
    "\n",
    "    Args:\n",
    "        s (str, optional): Header message. Defaults to None.\n",
    "        n (int, optional): Number of characters. Defaults to 50.\n",
    "    \"\"\"\n",
    "\n",
    "    if s:\n",
    "        print(\"=\" * int(n / 2), s, \"=\" * int(n / 2))\n",
    "    else:\n",
    "        print(\"=\" * n)"
   ]
  },
  {
   "cell_type": "code",
   "execution_count": 3,
   "metadata": {},
   "outputs": [
    {
     "data": {
      "text/html": [
       "<div>\n",
       "<style scoped>\n",
       "    .dataframe tbody tr th:only-of-type {\n",
       "        vertical-align: middle;\n",
       "    }\n",
       "\n",
       "    .dataframe tbody tr th {\n",
       "        vertical-align: top;\n",
       "    }\n",
       "\n",
       "    .dataframe thead th {\n",
       "        text-align: right;\n",
       "    }\n",
       "</style>\n",
       "<table border=\"1\" class=\"dataframe\">\n",
       "  <thead>\n",
       "    <tr style=\"text-align: right;\">\n",
       "      <th></th>\n",
       "      <th>first</th>\n",
       "      <th>last</th>\n",
       "      <th>email</th>\n",
       "      <th>score</th>\n",
       "    </tr>\n",
       "  </thead>\n",
       "  <tbody>\n",
       "    <tr>\n",
       "      <th>0</th>\n",
       "      <td>Lorem</td>\n",
       "      <td>Ipsum</td>\n",
       "      <td>lorem@yahoo.com</td>\n",
       "      <td>88</td>\n",
       "    </tr>\n",
       "    <tr>\n",
       "      <th>1</th>\n",
       "      <td>John</td>\n",
       "      <td>Doe</td>\n",
       "      <td>john@gmail.com</td>\n",
       "      <td>90</td>\n",
       "    </tr>\n",
       "    <tr>\n",
       "      <th>2</th>\n",
       "      <td>Jane</td>\n",
       "      <td>Doe</td>\n",
       "      <td>jane@outlook.com</td>\n",
       "      <td>85</td>\n",
       "    </tr>\n",
       "    <tr>\n",
       "      <th>3</th>\n",
       "      <td>Foo</td>\n",
       "      <td>Bar</td>\n",
       "      <td>foobar@email.com</td>\n",
       "      <td>90</td>\n",
       "    </tr>\n",
       "  </tbody>\n",
       "</table>\n",
       "</div>"
      ],
      "text/plain": [
       "   first   last             email  score\n",
       "0  Lorem  Ipsum   lorem@yahoo.com     88\n",
       "1   John    Doe    john@gmail.com     90\n",
       "2   Jane    Doe  jane@outlook.com     85\n",
       "3    Foo    Bar  foobar@email.com     90"
      ]
     },
     "metadata": {},
     "output_type": "display_data"
    }
   ],
   "source": [
    "people = {\n",
    "    \"first\": [\"Lorem\", \"John\", \"Jane\", \"Foo\"],\n",
    "    \"last\": [\"Ipsum\", \"Doe\", \"Doe\", \"Bar\"],\n",
    "    \"email\": [\"lorem@yahoo.com\", \"john@gmail.com\", \"jane@outlook.com\", \"foobar@email.com\"],\n",
    "    \"score\": [88, 90, 85, 90]\n",
    "}\n",
    "df = pd.DataFrame(people)\n",
    "display(df)"
   ]
  },
  {
   "attachments": {},
   "cell_type": "markdown",
   "metadata": {},
   "source": [
    "---\n",
    "## Sort Single Row or Column\n",
    "\n",
    "An axis (defaults to the \"rows\" axis, meaning sort the rows) can be sorted using `sort_values()` and passing in the label name (either index or column name) of the axis to be sorted to the **by** parameter.\n",
    "\n",
    "Values are sorted in ascending order by default and determined by the bool **ascending** parameter.  \n",
    "\n",
    "**Note:** this method does not modify the original df. Modify the original by setting the inplace parameter to True.  \n",
    "\n",
    "---"
   ]
  },
  {
   "cell_type": "code",
   "execution_count": null,
   "metadata": {},
   "outputs": [],
   "source": [
    "# Sort by score in descending order\n",
    "display(df)\n",
    "printhr()\n",
    "\n",
    "# Sort the rows\n",
    "sorted_df = df.sort_values(by=\"score\", ascending=False)\n",
    "display(sorted_df)"
   ]
  },
  {
   "cell_type": "code",
   "execution_count": null,
   "metadata": {},
   "outputs": [],
   "source": [
    "# Sorting the columns (axis=1 or axis=\"columns\")\n",
    "# Create new df since we cant sort an axis containing a str and a number.\n",
    "people2 = {\n",
    "    \"first\": [\"Lorem\", \"John\", \"Jane\"],\n",
    "    \"last\": [\"Ipsum\", \"Doe\", \"Doe\"],\n",
    "    \"email\": [\"lorem@yahoo.com\", \"john@gmail.com\", \"jane@outlook.com\"],\n",
    "}\n",
    "df2 = pd.DataFrame(people2)\n",
    "\n",
    "display(df2)\n",
    "printhr()\n",
    "\n",
    "# Sort by the \"1\" index\n",
    "sorted_df = df2.sort_values(by=1, axis=\"columns\")\n",
    "display(sorted_df)"
   ]
  },
  {
   "attachments": {},
   "cell_type": "markdown",
   "metadata": {},
   "source": [
    "---\n",
    "## Sort Multiple Rows or Columns\n",
    "\n",
    "When 2 or more values are the same, we can have a second (or more if needed) sort category that will be applied to determine how the sorting will be carried out.  \n",
    "\n",
    "Sorting by multiple categories can be done by passing in an iterable to the **by** parameter. Each sorting category can have their own sort order by specifying the corresponding bool value in an iterable to the **ascending** parameter.\n",
    "\n",
    "**Note:** this method does not modify the original df. Modify the original by setting the inplace parameter to True.  \n",
    "\n",
    "---"
   ]
  },
  {
   "cell_type": "code",
   "execution_count": 10,
   "metadata": {},
   "outputs": [
    {
     "data": {
      "text/html": [
       "<div>\n",
       "<style scoped>\n",
       "    .dataframe tbody tr th:only-of-type {\n",
       "        vertical-align: middle;\n",
       "    }\n",
       "\n",
       "    .dataframe tbody tr th {\n",
       "        vertical-align: top;\n",
       "    }\n",
       "\n",
       "    .dataframe thead th {\n",
       "        text-align: right;\n",
       "    }\n",
       "</style>\n",
       "<table border=\"1\" class=\"dataframe\">\n",
       "  <thead>\n",
       "    <tr style=\"text-align: right;\">\n",
       "      <th></th>\n",
       "      <th>first</th>\n",
       "      <th>last</th>\n",
       "      <th>email</th>\n",
       "      <th>score</th>\n",
       "    </tr>\n",
       "  </thead>\n",
       "  <tbody>\n",
       "    <tr>\n",
       "      <th>0</th>\n",
       "      <td>Lorem</td>\n",
       "      <td>Ipsum</td>\n",
       "      <td>lorem@yahoo.com</td>\n",
       "      <td>88</td>\n",
       "    </tr>\n",
       "    <tr>\n",
       "      <th>1</th>\n",
       "      <td>John</td>\n",
       "      <td>Doe</td>\n",
       "      <td>john@gmail.com</td>\n",
       "      <td>90</td>\n",
       "    </tr>\n",
       "    <tr>\n",
       "      <th>2</th>\n",
       "      <td>Jane</td>\n",
       "      <td>Doe</td>\n",
       "      <td>jane@outlook.com</td>\n",
       "      <td>85</td>\n",
       "    </tr>\n",
       "    <tr>\n",
       "      <th>3</th>\n",
       "      <td>Foo</td>\n",
       "      <td>Bar</td>\n",
       "      <td>foobar@email.com</td>\n",
       "      <td>90</td>\n",
       "    </tr>\n",
       "  </tbody>\n",
       "</table>\n",
       "</div>"
      ],
      "text/plain": [
       "   first   last             email  score\n",
       "0  Lorem  Ipsum   lorem@yahoo.com     88\n",
       "1   John    Doe    john@gmail.com     90\n",
       "2   Jane    Doe  jane@outlook.com     85\n",
       "3    Foo    Bar  foobar@email.com     90"
      ]
     },
     "metadata": {},
     "output_type": "display_data"
    },
    {
     "name": "stdout",
     "output_type": "stream",
     "text": [
      "========================================\n"
     ]
    },
    {
     "data": {
      "text/html": [
       "<div>\n",
       "<style scoped>\n",
       "    .dataframe tbody tr th:only-of-type {\n",
       "        vertical-align: middle;\n",
       "    }\n",
       "\n",
       "    .dataframe tbody tr th {\n",
       "        vertical-align: top;\n",
       "    }\n",
       "\n",
       "    .dataframe thead th {\n",
       "        text-align: right;\n",
       "    }\n",
       "</style>\n",
       "<table border=\"1\" class=\"dataframe\">\n",
       "  <thead>\n",
       "    <tr style=\"text-align: right;\">\n",
       "      <th></th>\n",
       "      <th>first</th>\n",
       "      <th>last</th>\n",
       "      <th>email</th>\n",
       "      <th>score</th>\n",
       "    </tr>\n",
       "  </thead>\n",
       "  <tbody>\n",
       "    <tr>\n",
       "      <th>3</th>\n",
       "      <td>Foo</td>\n",
       "      <td>Bar</td>\n",
       "      <td>foobar@email.com</td>\n",
       "      <td>90</td>\n",
       "    </tr>\n",
       "    <tr>\n",
       "      <th>1</th>\n",
       "      <td>John</td>\n",
       "      <td>Doe</td>\n",
       "      <td>john@gmail.com</td>\n",
       "      <td>90</td>\n",
       "    </tr>\n",
       "    <tr>\n",
       "      <th>0</th>\n",
       "      <td>Lorem</td>\n",
       "      <td>Ipsum</td>\n",
       "      <td>lorem@yahoo.com</td>\n",
       "      <td>88</td>\n",
       "    </tr>\n",
       "    <tr>\n",
       "      <th>2</th>\n",
       "      <td>Jane</td>\n",
       "      <td>Doe</td>\n",
       "      <td>jane@outlook.com</td>\n",
       "      <td>85</td>\n",
       "    </tr>\n",
       "  </tbody>\n",
       "</table>\n",
       "</div>"
      ],
      "text/plain": [
       "   first   last             email  score\n",
       "3    Foo    Bar  foobar@email.com     90\n",
       "1   John    Doe    john@gmail.com     90\n",
       "0  Lorem  Ipsum   lorem@yahoo.com     88\n",
       "2   Jane    Doe  jane@outlook.com     85"
      ]
     },
     "metadata": {},
     "output_type": "display_data"
    }
   ],
   "source": [
    "# Sort through score. If grades are equal, sort\n",
    "# the rows with equal values by last name\n",
    "display(df)\n",
    "printhr()\n",
    "\n",
    "# An iterable is passed both to the by and ascending\n",
    "# parameters to fine-tune the sorting. This effectively \n",
    "# sorts the score in descending order (dictated by False),\n",
    "# and sort the rows with the same scores by last name in\n",
    "# ascending order (true)\n",
    "sorted_df = df.sort_values([\"score\", \"last\"], ascending=[False, True])\n",
    "display(sorted_df)"
   ]
  }
 ],
 "metadata": {
  "kernelspec": {
   "display_name": "venv",
   "language": "python",
   "name": "python3"
  },
  "language_info": {
   "codemirror_mode": {
    "name": "ipython",
    "version": 3
   },
   "file_extension": ".py",
   "mimetype": "text/x-python",
   "name": "python",
   "nbconvert_exporter": "python",
   "pygments_lexer": "ipython3",
   "version": "3.11.1"
  },
  "orig_nbformat": 4
 },
 "nbformat": 4,
 "nbformat_minor": 2
}
